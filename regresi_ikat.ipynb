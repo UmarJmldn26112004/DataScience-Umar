{
  "nbformat": 4,
  "nbformat_minor": 0,
  "metadata": {
    "colab": {
      "provenance": []
    },
    "kernelspec": {
      "name": "python3",
      "display_name": "Python 3"
    },
    "language_info": {
      "name": "python"
    }
  },
  "cells": [
    {
      "cell_type": "code",
      "execution_count": null,
      "metadata": {
        "colab": {
          "base_uri": "https://localhost:8080/"
        },
        "id": "1ZrfDbg42QVA",
        "outputId": "901f0f54-0686-4d3b-8863-1425d2c29687"
      },
      "outputs": [
        {
          "output_type": "stream",
          "name": "stdout",
          "text": [
            "Drive already mounted at /content/drive; to attempt to forcibly remount, call drive.mount(\"/content/drive\", force_remount=True).\n"
          ]
        }
      ],
      "source": [
        "import pandas as pd\n",
        "from google. colab import drive #memanggil package import drive\n",
        "drive.mount('/content/drive')"
      ]
    },
    {
      "cell_type": "code",
      "source": [
        "path ='/content/drive/MyDrive/CSV/reg6 - Sheet5.csv'\n",
        "\n",
        "df = pd.read_csv(path)\n",
        "df.describe()"
      ],
      "metadata": {
        "colab": {
          "base_uri": "https://localhost:8080/",
          "height": 300
        },
        "id": "Fv2Gz3kA2h8U",
        "outputId": "b46bf396-af7d-4796-b4a9-b2e52adadce4"
      },
      "execution_count": null,
      "outputs": [
        {
          "output_type": "execute_result",
          "data": {
            "text/plain": [
              "          volume         omzet\n",
              "count  17.000000  1.700000e+01\n",
              "mean   46.000000  1.006176e+06\n",
              "std    31.290973  8.200296e+05\n",
              "min     1.000000  1.000000e+04\n",
              "25%    16.000000  1.600000e+05\n",
              "50%    45.000000  9.900000e+05\n",
              "75%    71.000000  1.625000e+06\n",
              "max    93.000000  2.450000e+06"
            ],
            "text/html": [
              "\n",
              "  <div id=\"df-4a39493c-ac82-4f62-a9fd-f1c97728d22a\">\n",
              "    <div class=\"colab-df-container\">\n",
              "      <div>\n",
              "<style scoped>\n",
              "    .dataframe tbody tr th:only-of-type {\n",
              "        vertical-align: middle;\n",
              "    }\n",
              "\n",
              "    .dataframe tbody tr th {\n",
              "        vertical-align: top;\n",
              "    }\n",
              "\n",
              "    .dataframe thead th {\n",
              "        text-align: right;\n",
              "    }\n",
              "</style>\n",
              "<table border=\"1\" class=\"dataframe\">\n",
              "  <thead>\n",
              "    <tr style=\"text-align: right;\">\n",
              "      <th></th>\n",
              "      <th>volume</th>\n",
              "      <th>omzet</th>\n",
              "    </tr>\n",
              "  </thead>\n",
              "  <tbody>\n",
              "    <tr>\n",
              "      <th>count</th>\n",
              "      <td>17.000000</td>\n",
              "      <td>1.700000e+01</td>\n",
              "    </tr>\n",
              "    <tr>\n",
              "      <th>mean</th>\n",
              "      <td>46.000000</td>\n",
              "      <td>1.006176e+06</td>\n",
              "    </tr>\n",
              "    <tr>\n",
              "      <th>std</th>\n",
              "      <td>31.290973</td>\n",
              "      <td>8.200296e+05</td>\n",
              "    </tr>\n",
              "    <tr>\n",
              "      <th>min</th>\n",
              "      <td>1.000000</td>\n",
              "      <td>1.000000e+04</td>\n",
              "    </tr>\n",
              "    <tr>\n",
              "      <th>25%</th>\n",
              "      <td>16.000000</td>\n",
              "      <td>1.600000e+05</td>\n",
              "    </tr>\n",
              "    <tr>\n",
              "      <th>50%</th>\n",
              "      <td>45.000000</td>\n",
              "      <td>9.900000e+05</td>\n",
              "    </tr>\n",
              "    <tr>\n",
              "      <th>75%</th>\n",
              "      <td>71.000000</td>\n",
              "      <td>1.625000e+06</td>\n",
              "    </tr>\n",
              "    <tr>\n",
              "      <th>max</th>\n",
              "      <td>93.000000</td>\n",
              "      <td>2.450000e+06</td>\n",
              "    </tr>\n",
              "  </tbody>\n",
              "</table>\n",
              "</div>\n",
              "      <button class=\"colab-df-convert\" onclick=\"convertToInteractive('df-4a39493c-ac82-4f62-a9fd-f1c97728d22a')\"\n",
              "              title=\"Convert this dataframe to an interactive table.\"\n",
              "              style=\"display:none;\">\n",
              "        \n",
              "  <svg xmlns=\"http://www.w3.org/2000/svg\" height=\"24px\"viewBox=\"0 0 24 24\"\n",
              "       width=\"24px\">\n",
              "    <path d=\"M0 0h24v24H0V0z\" fill=\"none\"/>\n",
              "    <path d=\"M18.56 5.44l.94 2.06.94-2.06 2.06-.94-2.06-.94-.94-2.06-.94 2.06-2.06.94zm-11 1L8.5 8.5l.94-2.06 2.06-.94-2.06-.94L8.5 2.5l-.94 2.06-2.06.94zm10 10l.94 2.06.94-2.06 2.06-.94-2.06-.94-.94-2.06-.94 2.06-2.06.94z\"/><path d=\"M17.41 7.96l-1.37-1.37c-.4-.4-.92-.59-1.43-.59-.52 0-1.04.2-1.43.59L10.3 9.45l-7.72 7.72c-.78.78-.78 2.05 0 2.83L4 21.41c.39.39.9.59 1.41.59.51 0 1.02-.2 1.41-.59l7.78-7.78 2.81-2.81c.8-.78.8-2.07 0-2.86zM5.41 20L4 18.59l7.72-7.72 1.47 1.35L5.41 20z\"/>\n",
              "  </svg>\n",
              "      </button>\n",
              "      \n",
              "  <style>\n",
              "    .colab-df-container {\n",
              "      display:flex;\n",
              "      flex-wrap:wrap;\n",
              "      gap: 12px;\n",
              "    }\n",
              "\n",
              "    .colab-df-convert {\n",
              "      background-color: #E8F0FE;\n",
              "      border: none;\n",
              "      border-radius: 50%;\n",
              "      cursor: pointer;\n",
              "      display: none;\n",
              "      fill: #1967D2;\n",
              "      height: 32px;\n",
              "      padding: 0 0 0 0;\n",
              "      width: 32px;\n",
              "    }\n",
              "\n",
              "    .colab-df-convert:hover {\n",
              "      background-color: #E2EBFA;\n",
              "      box-shadow: 0px 1px 2px rgba(60, 64, 67, 0.3), 0px 1px 3px 1px rgba(60, 64, 67, 0.15);\n",
              "      fill: #174EA6;\n",
              "    }\n",
              "\n",
              "    [theme=dark] .colab-df-convert {\n",
              "      background-color: #3B4455;\n",
              "      fill: #D2E3FC;\n",
              "    }\n",
              "\n",
              "    [theme=dark] .colab-df-convert:hover {\n",
              "      background-color: #434B5C;\n",
              "      box-shadow: 0px 1px 3px 1px rgba(0, 0, 0, 0.15);\n",
              "      filter: drop-shadow(0px 1px 2px rgba(0, 0, 0, 0.3));\n",
              "      fill: #FFFFFF;\n",
              "    }\n",
              "  </style>\n",
              "\n",
              "      <script>\n",
              "        const buttonEl =\n",
              "          document.querySelector('#df-4a39493c-ac82-4f62-a9fd-f1c97728d22a button.colab-df-convert');\n",
              "        buttonEl.style.display =\n",
              "          google.colab.kernel.accessAllowed ? 'block' : 'none';\n",
              "\n",
              "        async function convertToInteractive(key) {\n",
              "          const element = document.querySelector('#df-4a39493c-ac82-4f62-a9fd-f1c97728d22a');\n",
              "          const dataTable =\n",
              "            await google.colab.kernel.invokeFunction('convertToInteractive',\n",
              "                                                     [key], {});\n",
              "          if (!dataTable) return;\n",
              "\n",
              "          const docLinkHtml = 'Like what you see? Visit the ' +\n",
              "            '<a target=\"_blank\" href=https://colab.research.google.com/notebooks/data_table.ipynb>data table notebook</a>'\n",
              "            + ' to learn more about interactive tables.';\n",
              "          element.innerHTML = '';\n",
              "          dataTable['output_type'] = 'display_data';\n",
              "          await google.colab.output.renderOutput(dataTable, element);\n",
              "          const docLink = document.createElement('div');\n",
              "          docLink.innerHTML = docLinkHtml;\n",
              "          element.appendChild(docLink);\n",
              "        }\n",
              "      </script>\n",
              "    </div>\n",
              "  </div>\n",
              "  "
            ]
          },
          "metadata": {},
          "execution_count": 10
        }
      ]
    },
    {
      "cell_type": "code",
      "source": [
        "df"
      ],
      "metadata": {
        "colab": {
          "base_uri": "https://localhost:8080/",
          "height": 582
        },
        "id": "6QRopl_t4_gI",
        "outputId": "6b84b88d-b467-4aa3-c109-c83dc77be272"
      },
      "execution_count": null,
      "outputs": [
        {
          "output_type": "execute_result",
          "data": {
            "text/plain": [
              "                    lokasi           jenis_komoditi  volume satuan    omzet\n",
              "0   Pasar Bunga Rawabelong               Daun Sirih       1   Ikat    10000\n",
              "1   Pasar Bunga Rawabelong              Buah Pinang       6   Ikat    85000\n",
              "2   Pasar Bunga Rawabelong                  Gladiol      11   Ikat   110000\n",
              "3   Pasar Bunga Rawabelong  Ros Semy Holand Cipanas      16   Ikat   160000\n",
              "4   Pasar Bunga Rawabelong               Ros Malang      16   Ikat   160000\n",
              "5   Pasar Bunga Rawabelong           Hebras/Gerbera      24   Ikat   360000\n",
              "6   Pasar Bunga Rawabelong                    Pikok      31   Ikat   480000\n",
              "7   Pasar Bunga Rawabelong             Bunga  Balon      32   Ikat   570000\n",
              "8   Pasar Bunga Rawabelong          Aster (Cipanas)      45   Ikat   990000\n",
              "9   Pasar Bunga Rawabelong         Krisan (Cipanas)      53   Ikat  1125000\n",
              "10  Pasar Bunga Rawabelong           Bunga Matahari      65   Ikat  1550000\n",
              "11  Pasar Bunga Rawabelong               Aster (PT)      66   Ikat  1625000\n",
              "12  Pasar Bunga Rawabelong          Krisan Std (PT)      71   Ikat  1625000\n",
              "13  Pasar Bunga Rawabelong             Gerbera (PT)      77   Ikat  1775000\n",
              "14  Pasar Bunga Rawabelong               Casablanca      82   Ikat  1940000\n",
              "15  Pasar Bunga Rawabelong                 Solidago      93   Ikat  2090000\n",
              "16  Pasar Bunga Rawabelong                Carnation      93   Ikat  2450000"
            ],
            "text/html": [
              "\n",
              "  <div id=\"df-ec07ff40-99da-452d-a1d6-9d5cd6d18db6\">\n",
              "    <div class=\"colab-df-container\">\n",
              "      <div>\n",
              "<style scoped>\n",
              "    .dataframe tbody tr th:only-of-type {\n",
              "        vertical-align: middle;\n",
              "    }\n",
              "\n",
              "    .dataframe tbody tr th {\n",
              "        vertical-align: top;\n",
              "    }\n",
              "\n",
              "    .dataframe thead th {\n",
              "        text-align: right;\n",
              "    }\n",
              "</style>\n",
              "<table border=\"1\" class=\"dataframe\">\n",
              "  <thead>\n",
              "    <tr style=\"text-align: right;\">\n",
              "      <th></th>\n",
              "      <th>lokasi</th>\n",
              "      <th>jenis_komoditi</th>\n",
              "      <th>volume</th>\n",
              "      <th>satuan</th>\n",
              "      <th>omzet</th>\n",
              "    </tr>\n",
              "  </thead>\n",
              "  <tbody>\n",
              "    <tr>\n",
              "      <th>0</th>\n",
              "      <td>Pasar Bunga Rawabelong</td>\n",
              "      <td>Daun Sirih</td>\n",
              "      <td>1</td>\n",
              "      <td>Ikat</td>\n",
              "      <td>10000</td>\n",
              "    </tr>\n",
              "    <tr>\n",
              "      <th>1</th>\n",
              "      <td>Pasar Bunga Rawabelong</td>\n",
              "      <td>Buah Pinang</td>\n",
              "      <td>6</td>\n",
              "      <td>Ikat</td>\n",
              "      <td>85000</td>\n",
              "    </tr>\n",
              "    <tr>\n",
              "      <th>2</th>\n",
              "      <td>Pasar Bunga Rawabelong</td>\n",
              "      <td>Gladiol</td>\n",
              "      <td>11</td>\n",
              "      <td>Ikat</td>\n",
              "      <td>110000</td>\n",
              "    </tr>\n",
              "    <tr>\n",
              "      <th>3</th>\n",
              "      <td>Pasar Bunga Rawabelong</td>\n",
              "      <td>Ros Semy Holand Cipanas</td>\n",
              "      <td>16</td>\n",
              "      <td>Ikat</td>\n",
              "      <td>160000</td>\n",
              "    </tr>\n",
              "    <tr>\n",
              "      <th>4</th>\n",
              "      <td>Pasar Bunga Rawabelong</td>\n",
              "      <td>Ros Malang</td>\n",
              "      <td>16</td>\n",
              "      <td>Ikat</td>\n",
              "      <td>160000</td>\n",
              "    </tr>\n",
              "    <tr>\n",
              "      <th>5</th>\n",
              "      <td>Pasar Bunga Rawabelong</td>\n",
              "      <td>Hebras/Gerbera</td>\n",
              "      <td>24</td>\n",
              "      <td>Ikat</td>\n",
              "      <td>360000</td>\n",
              "    </tr>\n",
              "    <tr>\n",
              "      <th>6</th>\n",
              "      <td>Pasar Bunga Rawabelong</td>\n",
              "      <td>Pikok</td>\n",
              "      <td>31</td>\n",
              "      <td>Ikat</td>\n",
              "      <td>480000</td>\n",
              "    </tr>\n",
              "    <tr>\n",
              "      <th>7</th>\n",
              "      <td>Pasar Bunga Rawabelong</td>\n",
              "      <td>Bunga  Balon</td>\n",
              "      <td>32</td>\n",
              "      <td>Ikat</td>\n",
              "      <td>570000</td>\n",
              "    </tr>\n",
              "    <tr>\n",
              "      <th>8</th>\n",
              "      <td>Pasar Bunga Rawabelong</td>\n",
              "      <td>Aster (Cipanas)</td>\n",
              "      <td>45</td>\n",
              "      <td>Ikat</td>\n",
              "      <td>990000</td>\n",
              "    </tr>\n",
              "    <tr>\n",
              "      <th>9</th>\n",
              "      <td>Pasar Bunga Rawabelong</td>\n",
              "      <td>Krisan (Cipanas)</td>\n",
              "      <td>53</td>\n",
              "      <td>Ikat</td>\n",
              "      <td>1125000</td>\n",
              "    </tr>\n",
              "    <tr>\n",
              "      <th>10</th>\n",
              "      <td>Pasar Bunga Rawabelong</td>\n",
              "      <td>Bunga Matahari</td>\n",
              "      <td>65</td>\n",
              "      <td>Ikat</td>\n",
              "      <td>1550000</td>\n",
              "    </tr>\n",
              "    <tr>\n",
              "      <th>11</th>\n",
              "      <td>Pasar Bunga Rawabelong</td>\n",
              "      <td>Aster (PT)</td>\n",
              "      <td>66</td>\n",
              "      <td>Ikat</td>\n",
              "      <td>1625000</td>\n",
              "    </tr>\n",
              "    <tr>\n",
              "      <th>12</th>\n",
              "      <td>Pasar Bunga Rawabelong</td>\n",
              "      <td>Krisan Std (PT)</td>\n",
              "      <td>71</td>\n",
              "      <td>Ikat</td>\n",
              "      <td>1625000</td>\n",
              "    </tr>\n",
              "    <tr>\n",
              "      <th>13</th>\n",
              "      <td>Pasar Bunga Rawabelong</td>\n",
              "      <td>Gerbera (PT)</td>\n",
              "      <td>77</td>\n",
              "      <td>Ikat</td>\n",
              "      <td>1775000</td>\n",
              "    </tr>\n",
              "    <tr>\n",
              "      <th>14</th>\n",
              "      <td>Pasar Bunga Rawabelong</td>\n",
              "      <td>Casablanca</td>\n",
              "      <td>82</td>\n",
              "      <td>Ikat</td>\n",
              "      <td>1940000</td>\n",
              "    </tr>\n",
              "    <tr>\n",
              "      <th>15</th>\n",
              "      <td>Pasar Bunga Rawabelong</td>\n",
              "      <td>Solidago</td>\n",
              "      <td>93</td>\n",
              "      <td>Ikat</td>\n",
              "      <td>2090000</td>\n",
              "    </tr>\n",
              "    <tr>\n",
              "      <th>16</th>\n",
              "      <td>Pasar Bunga Rawabelong</td>\n",
              "      <td>Carnation</td>\n",
              "      <td>93</td>\n",
              "      <td>Ikat</td>\n",
              "      <td>2450000</td>\n",
              "    </tr>\n",
              "  </tbody>\n",
              "</table>\n",
              "</div>\n",
              "      <button class=\"colab-df-convert\" onclick=\"convertToInteractive('df-ec07ff40-99da-452d-a1d6-9d5cd6d18db6')\"\n",
              "              title=\"Convert this dataframe to an interactive table.\"\n",
              "              style=\"display:none;\">\n",
              "        \n",
              "  <svg xmlns=\"http://www.w3.org/2000/svg\" height=\"24px\"viewBox=\"0 0 24 24\"\n",
              "       width=\"24px\">\n",
              "    <path d=\"M0 0h24v24H0V0z\" fill=\"none\"/>\n",
              "    <path d=\"M18.56 5.44l.94 2.06.94-2.06 2.06-.94-2.06-.94-.94-2.06-.94 2.06-2.06.94zm-11 1L8.5 8.5l.94-2.06 2.06-.94-2.06-.94L8.5 2.5l-.94 2.06-2.06.94zm10 10l.94 2.06.94-2.06 2.06-.94-2.06-.94-.94-2.06-.94 2.06-2.06.94z\"/><path d=\"M17.41 7.96l-1.37-1.37c-.4-.4-.92-.59-1.43-.59-.52 0-1.04.2-1.43.59L10.3 9.45l-7.72 7.72c-.78.78-.78 2.05 0 2.83L4 21.41c.39.39.9.59 1.41.59.51 0 1.02-.2 1.41-.59l7.78-7.78 2.81-2.81c.8-.78.8-2.07 0-2.86zM5.41 20L4 18.59l7.72-7.72 1.47 1.35L5.41 20z\"/>\n",
              "  </svg>\n",
              "      </button>\n",
              "      \n",
              "  <style>\n",
              "    .colab-df-container {\n",
              "      display:flex;\n",
              "      flex-wrap:wrap;\n",
              "      gap: 12px;\n",
              "    }\n",
              "\n",
              "    .colab-df-convert {\n",
              "      background-color: #E8F0FE;\n",
              "      border: none;\n",
              "      border-radius: 50%;\n",
              "      cursor: pointer;\n",
              "      display: none;\n",
              "      fill: #1967D2;\n",
              "      height: 32px;\n",
              "      padding: 0 0 0 0;\n",
              "      width: 32px;\n",
              "    }\n",
              "\n",
              "    .colab-df-convert:hover {\n",
              "      background-color: #E2EBFA;\n",
              "      box-shadow: 0px 1px 2px rgba(60, 64, 67, 0.3), 0px 1px 3px 1px rgba(60, 64, 67, 0.15);\n",
              "      fill: #174EA6;\n",
              "    }\n",
              "\n",
              "    [theme=dark] .colab-df-convert {\n",
              "      background-color: #3B4455;\n",
              "      fill: #D2E3FC;\n",
              "    }\n",
              "\n",
              "    [theme=dark] .colab-df-convert:hover {\n",
              "      background-color: #434B5C;\n",
              "      box-shadow: 0px 1px 3px 1px rgba(0, 0, 0, 0.15);\n",
              "      filter: drop-shadow(0px 1px 2px rgba(0, 0, 0, 0.3));\n",
              "      fill: #FFFFFF;\n",
              "    }\n",
              "  </style>\n",
              "\n",
              "      <script>\n",
              "        const buttonEl =\n",
              "          document.querySelector('#df-ec07ff40-99da-452d-a1d6-9d5cd6d18db6 button.colab-df-convert');\n",
              "        buttonEl.style.display =\n",
              "          google.colab.kernel.accessAllowed ? 'block' : 'none';\n",
              "\n",
              "        async function convertToInteractive(key) {\n",
              "          const element = document.querySelector('#df-ec07ff40-99da-452d-a1d6-9d5cd6d18db6');\n",
              "          const dataTable =\n",
              "            await google.colab.kernel.invokeFunction('convertToInteractive',\n",
              "                                                     [key], {});\n",
              "          if (!dataTable) return;\n",
              "\n",
              "          const docLinkHtml = 'Like what you see? Visit the ' +\n",
              "            '<a target=\"_blank\" href=https://colab.research.google.com/notebooks/data_table.ipynb>data table notebook</a>'\n",
              "            + ' to learn more about interactive tables.';\n",
              "          element.innerHTML = '';\n",
              "          dataTable['output_type'] = 'display_data';\n",
              "          await google.colab.output.renderOutput(dataTable, element);\n",
              "          const docLink = document.createElement('div');\n",
              "          docLink.innerHTML = docLinkHtml;\n",
              "          element.appendChild(docLink);\n",
              "        }\n",
              "      </script>\n",
              "    </div>\n",
              "  </div>\n",
              "  "
            ]
          },
          "metadata": {},
          "execution_count": 11
        }
      ]
    },
    {
      "cell_type": "code",
      "source": [
        "import matplotlib.pyplot as plt\n",
        "\n",
        "df.plot(kind='scatter',x='volume', y='omzet')\n",
        "\n",
        "plt.title('INDEX kesejahteraan warga')\n",
        "plt.xlabel('Jumlah penduduk')\n",
        "plt.ylabel('index')\n",
        "plt.xlim(0,100)\n",
        "plt.ylim(0,2500000)\n",
        "plt.grid(True)\n",
        "plt.show()"
      ],
      "metadata": {
        "colab": {
          "base_uri": "https://localhost:8080/",
          "height": 295
        },
        "id": "roVAvIoY7XBP",
        "outputId": "173c4dd6-6d90-4d0a-8d38-8e5bdaa2538f"
      },
      "execution_count": null,
      "outputs": [
        {
          "output_type": "display_data",
          "data": {
            "text/plain": [
              "<Figure size 432x288 with 1 Axes>"
            ],
            "image/png": "[encoded data removed]"
          },
          "metadata": {
            "needs_background": "light"
          }
        }
      ]
    },
    {
      "cell_type": "code",
      "source": [
        "import numpy as np\n",
        "X = np.array(df['volume'])\n",
        "y = np.array(df['omzet'])\n",
        "\n",
        "print(f'X : {X}')\n",
        "print(f'y : {y}')"
      ],
      "metadata": {
        "colab": {
          "base_uri": "https://localhost:8080/"
        },
        "id": "Ae0-vrPqBjZ8",
        "outputId": "b7d0da0d-4e8c-46a2-95cd-cf2d33679fd9"
      },
      "execution_count": null,
      "outputs": [
        {
          "output_type": "stream",
          "name": "stdout",
          "text": [
            "X : [ 1  6 11 16 16 24 31 32 45 53 65 66 71 77 82 93 93]\n",
            "y : [  10000   85000  110000  160000  160000  360000  480000  570000  990000\n",
            " 1125000 1550000 1625000 1625000 1775000 1940000 2090000 2450000]\n"
          ]
        }
      ]
    },
    {
      "cell_type": "code",
      "source": [
        "X = X.reshape(-1, 1)\n",
        "\n",
        "X.shape"
      ],
      "metadata": {
        "colab": {
          "base_uri": "https://localhost:8080/"
        },
        "id": "39uN5KhQ90RC",
        "outputId": "9f3c2d95-1af6-43d3-d883-5fc199af1ce1"
      },
      "execution_count": null,
      "outputs": [
        {
          "output_type": "execute_result",
          "data": {
            "text/plain": [
              "(17, 1)"
            ]
          },
          "metadata": {},
          "execution_count": 14
        }
      ]
    },
    {
      "cell_type": "code",
      "source": [
        "X"
      ],
      "metadata": {
        "colab": {
          "base_uri": "https://localhost:8080/"
        },
        "id": "QtxCj_8aBvfl",
        "outputId": "430fb8c8-4929-4763-f77e-15e693be2796"
      },
      "execution_count": null,
      "outputs": [
        {
          "output_type": "execute_result",
          "data": {
            "text/plain": [
              "array([[ 1],\n",
              "       [ 6],\n",
              "       [11],\n",
              "       [16],\n",
              "       [16],\n",
              "       [24],\n",
              "       [31],\n",
              "       [32],\n",
              "       [45],\n",
              "       [53],\n",
              "       [65],\n",
              "       [66],\n",
              "       [71],\n",
              "       [77],\n",
              "       [82],\n",
              "       [93],\n",
              "       [93]])"
            ]
          },
          "metadata": {},
          "execution_count": 15
        }
      ]
    },
    {
      "cell_type": "code",
      "source": [
        "from sklearn.linear_model import LinearRegression\n",
        "\n",
        "model = LinearRegression()\n",
        "model.fit(X, y)"
      ],
      "metadata": {
        "colab": {
          "base_uri": "https://localhost:8080/"
        },
        "id": "p5kIT1R9Bybd",
        "outputId": "770150d2-c67f-4dde-e8b3-ea608314a494"
      },
      "execution_count": null,
      "outputs": [
        {
          "output_type": "execute_result",
          "data": {
            "text/plain": [
              "LinearRegression()"
            ]
          },
          "metadata": {},
          "execution_count": 16
        }
      ]
    },
    {
      "cell_type": "code",
      "source": [
        "X_vis = np.array([0, 1000]).reshape(-1, 1)\n",
        "y_vis = model.predict(X_vis)"
      ],
      "metadata": {
        "id": "5HKRsTzCB49I"
      },
      "execution_count": null,
      "outputs": []
    },
    {
      "cell_type": "code",
      "source": [
        "plt.scatter(X, y)\n",
        "plt.plot(X_vis,y_vis, '-r')\n",
        "plt.title('indeks')\n",
        "plt.xlabel('volume')\n",
        "plt.ylabel('omzet')\n",
        "plt.xlim(0,100)\n",
        "plt.ylim(0,2500000)\n",
        "plt.grid(True)\n",
        "plt.show()"
      ],
      "metadata": {
        "colab": {
          "base_uri": "https://localhost:8080/",
          "height": 295
        },
        "id": "t0lUSK8LB69o",
        "outputId": "6e580f44-4a77-41ff-9c9c-225cf6ec5322"
      },
      "execution_count": null,
      "outputs": [
        {
          "output_type": "display_data",
          "data": {
            "text/plain": [
              "<Figure size 432x288 with 1 Axes>"
            ],
            "image/png": "[encoded data removed]"
          },
          "metadata": {
            "needs_background": "light"
          }
        }
      ]
    },
    {
      "cell_type": "code",
      "source": [
        "print(f'intercept : {model.intercept_}')\n",
        "print(f'slope : {model.coef_}')"
      ],
      "metadata": {
        "colab": {
          "base_uri": "https://localhost:8080/"
        },
        "id": "43_0nirJCcAN",
        "outputId": "497a7d08-c07b-4d71-c262-259407478a8e"
      },
      "execution_count": null,
      "outputs": [
        {
          "output_type": "stream",
          "name": "stdout",
          "text": [
            "intercept : -189791.23016498855\n",
            "slope : [25999.29784246]\n"
          ]
        }
      ]
    },
    {
      "cell_type": "code",
      "source": [
        "volume = np.array([160000,990000,1625000,1775000,1940000]).reshape(-1, 1)\n",
        "volume"
      ],
      "metadata": {
        "colab": {
          "base_uri": "https://localhost:8080/"
        },
        "id": "z5J9B279Cfft",
        "outputId": "4da55131-953a-481a-caa1-536e17da41e8"
      },
      "execution_count": null,
      "outputs": [
        {
          "output_type": "execute_result",
          "data": {
            "text/plain": [
              "array([[ 160000],\n",
              "       [ 990000],\n",
              "       [1625000],\n",
              "       [1775000],\n",
              "       [1940000]])"
            ]
          },
          "metadata": {},
          "execution_count": 21
        }
      ]
    },
    {
      "cell_type": "code",
      "source": [
        "omzet = model.predict(volume)\n",
        "omzet"
      ],
      "metadata": {
        "colab": {
          "base_uri": "https://localhost:8080/"
        },
        "id": "JLU-pVNhDP0t",
        "outputId": "388e2e4f-6a81-40fd-ea55-6b883874c0dc"
      },
      "execution_count": null,
      "outputs": [
        {
          "output_type": "execute_result",
          "data": {
            "text/plain": [
              "array([4.15969786e+09, 2.57391151e+10, 4.22486692e+10, 4.61485639e+10,\n",
              "       5.04384480e+10])"
            ]
          },
          "metadata": {},
          "execution_count": 22
        }
      ]
    }
  ]
}