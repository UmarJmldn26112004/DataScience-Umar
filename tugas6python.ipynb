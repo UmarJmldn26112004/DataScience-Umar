{
  "nbformat": 4,
  "nbformat_minor": 0,
  "metadata": {
    "colab": {
      "provenance": []
    },
    "kernelspec": {
      "name": "python3",
      "display_name": "Python 3"
    },
    "language_info": {
      "name": "python"
    }
  },
  "cells": [
    {
      "cell_type": "code",
      "execution_count": null,
      "metadata": {
        "colab": {
          "base_uri": "https://localhost:8080/"
        },
        "id": "lHR_uGrKfP6d",
        "outputId": "667cca33-1a44-4f1b-9a36-e98b57e441c1"
      },
      "outputs": [
        {
          "output_type": "stream",
          "name": "stdout",
          "text": [
            "Mounted at /content/drive\n"
          ]
        }
      ],
      "source": [
        "import pandas as pd\n",
        "from google. colab import drive #memanggil package import drive\n",
        "drive.mount('/content/drive')"
      ]
    },
    {
      "cell_type": "code",
      "source": [
        "path ='/content/drive/MyDrive/CSV/tugas6 - Sheet1 (4).csv'\n",
        "\n",
        "df = pd.read_csv(path)\n",
        "df.describe()"
      ],
      "metadata": {
        "colab": {
          "base_uri": "https://localhost:8080/",
          "height": 300
        },
        "id": "Rca5k4zyoIG9",
        "outputId": "f1c2702f-5153-4b0f-8a62-ca33a60d5b3b"
      },
      "execution_count": null,
      "outputs": [
        {
          "output_type": "execute_result",
          "data": {
            "text/plain": [
              "            No.  Jumlah RW  Jumlah Kepala Keluarga  Rata2 Usia  Keluarga\n",
              "count  50.00000  50.000000               50.000000             50.000000\n",
              "mean   25.50000   9.920000               32.180000             38.978000\n",
              "std    14.57738   4.810024               11.910705             10.041695\n",
              "min     1.00000   2.000000               13.000000             24.900000\n",
              "25%    13.25000   5.250000               24.000000             30.325000\n",
              "50%    25.50000  10.000000               29.500000             36.650000\n",
              "75%    37.75000  13.750000               40.750000             45.625000\n",
              "max    50.00000  20.000000               59.000000             59.400000"
            ],
            "text/html": [
              "\n",
              "  <div id=\"df-a983a334-4d91-4dc8-a59e-b772141d561b\">\n",
              "    <div class=\"colab-df-container\">\n",
              "      <div>\n",
              "<style scoped>\n",
              "    .dataframe tbody tr th:only-of-type {\n",
              "        vertical-align: middle;\n",
              "    }\n",
              "\n",
              "    .dataframe tbody tr th {\n",
              "        vertical-align: top;\n",
              "    }\n",
              "\n",
              "    .dataframe thead th {\n",
              "        text-align: right;\n",
              "    }\n",
              "</style>\n",
              "<table border=\"1\" class=\"dataframe\">\n",
              "  <thead>\n",
              "    <tr style=\"text-align: right;\">\n",
              "      <th></th>\n",
              "      <th>No.</th>\n",
              "      <th>Jumlah RW</th>\n",
              "      <th>Jumlah Kepala Keluarga</th>\n",
              "      <th>Rata2 Usia  Keluarga</th>\n",
              "    </tr>\n",
              "  </thead>\n",
              "  <tbody>\n",
              "    <tr>\n",
              "      <th>count</th>\n",
              "      <td>50.00000</td>\n",
              "      <td>50.000000</td>\n",
              "      <td>50.000000</td>\n",
              "      <td>50.000000</td>\n",
              "    </tr>\n",
              "    <tr>\n",
              "      <th>mean</th>\n",
              "      <td>25.50000</td>\n",
              "      <td>9.920000</td>\n",
              "      <td>32.180000</td>\n",
              "      <td>38.978000</td>\n",
              "    </tr>\n",
              "    <tr>\n",
              "      <th>std</th>\n",
              "      <td>14.57738</td>\n",
              "      <td>4.810024</td>\n",
              "      <td>11.910705</td>\n",
              "      <td>10.041695</td>\n",
              "    </tr>\n",
              "    <tr>\n",
              "      <th>min</th>\n",
              "      <td>1.00000</td>\n",
              "      <td>2.000000</td>\n",
              "      <td>13.000000</td>\n",
              "      <td>24.900000</td>\n",
              "    </tr>\n",
              "    <tr>\n",
              "      <th>25%</th>\n",
              "      <td>13.25000</td>\n",
              "      <td>5.250000</td>\n",
              "      <td>24.000000</td>\n",
              "      <td>30.325000</td>\n",
              "    </tr>\n",
              "    <tr>\n",
              "      <th>50%</th>\n",
              "      <td>25.50000</td>\n",
              "      <td>10.000000</td>\n",
              "      <td>29.500000</td>\n",
              "      <td>36.650000</td>\n",
              "    </tr>\n",
              "    <tr>\n",
              "      <th>75%</th>\n",
              "      <td>37.75000</td>\n",
              "      <td>13.750000</td>\n",
              "      <td>40.750000</td>\n",
              "      <td>45.625000</td>\n",
              "    </tr>\n",
              "    <tr>\n",
              "      <th>max</th>\n",
              "      <td>50.00000</td>\n",
              "      <td>20.000000</td>\n",
              "      <td>59.000000</td>\n",
              "      <td>59.400000</td>\n",
              "    </tr>\n",
              "  </tbody>\n",
              "</table>\n",
              "</div>\n",
              "      <button class=\"colab-df-convert\" onclick=\"convertToInteractive('df-a983a334-4d91-4dc8-a59e-b772141d561b')\"\n",
              "              title=\"Convert this dataframe to an interactive table.\"\n",
              "              style=\"display:none;\">\n",
              "        \n",
              "  <svg xmlns=\"http://www.w3.org/2000/svg\" height=\"24px\"viewBox=\"0 0 24 24\"\n",
              "       width=\"24px\">\n",
              "    <path d=\"M0 0h24v24H0V0z\" fill=\"none\"/>\n",
              "    <path d=\"M18.56 5.44l.94 2.06.94-2.06 2.06-.94-2.06-.94-.94-2.06-.94 2.06-2.06.94zm-11 1L8.5 8.5l.94-2.06 2.06-.94-2.06-.94L8.5 2.5l-.94 2.06-2.06.94zm10 10l.94 2.06.94-2.06 2.06-.94-2.06-.94-.94-2.06-.94 2.06-2.06.94z\"/><path d=\"M17.41 7.96l-1.37-1.37c-.4-.4-.92-.59-1.43-.59-.52 0-1.04.2-1.43.59L10.3 9.45l-7.72 7.72c-.78.78-.78 2.05 0 2.83L4 21.41c.39.39.9.59 1.41.59.51 0 1.02-.2 1.41-.59l7.78-7.78 2.81-2.81c.8-.78.8-2.07 0-2.86zM5.41 20L4 18.59l7.72-7.72 1.47 1.35L5.41 20z\"/>\n",
              "  </svg>\n",
              "      </button>\n",
              "      \n",
              "  <style>\n",
              "    .colab-df-container {\n",
              "      display:flex;\n",
              "      flex-wrap:wrap;\n",
              "      gap: 12px;\n",
              "    }\n",
              "\n",
              "    .colab-df-convert {\n",
              "      background-color: #E8F0FE;\n",
              "      border: none;\n",
              "      border-radius: 50%;\n",
              "      cursor: pointer;\n",
              "      display: none;\n",
              "      fill: #1967D2;\n",
              "      height: 32px;\n",
              "      padding: 0 0 0 0;\n",
              "      width: 32px;\n",
              "    }\n",
              "\n",
              "    .colab-df-convert:hover {\n",
              "      background-color: #E2EBFA;\n",
              "      box-shadow: 0px 1px 2px rgba(60, 64, 67, 0.3), 0px 1px 3px 1px rgba(60, 64, 67, 0.15);\n",
              "      fill: #174EA6;\n",
              "    }\n",
              "\n",
              "    [theme=dark] .colab-df-convert {\n",
              "      background-color: #3B4455;\n",
              "      fill: #D2E3FC;\n",
              "    }\n",
              "\n",
              "    [theme=dark] .colab-df-convert:hover {\n",
              "      background-color: #434B5C;\n",
              "      box-shadow: 0px 1px 3px 1px rgba(0, 0, 0, 0.15);\n",
              "      filter: drop-shadow(0px 1px 2px rgba(0, 0, 0, 0.3));\n",
              "      fill: #FFFFFF;\n",
              "    }\n",
              "  </style>\n",
              "\n",
              "      <script>\n",
              "        const buttonEl =\n",
              "          document.querySelector('#df-a983a334-4d91-4dc8-a59e-b772141d561b button.colab-df-convert');\n",
              "        buttonEl.style.display =\n",
              "          google.colab.kernel.accessAllowed ? 'block' : 'none';\n",
              "\n",
              "        async function convertToInteractive(key) {\n",
              "          const element = document.querySelector('#df-a983a334-4d91-4dc8-a59e-b772141d561b');\n",
              "          const dataTable =\n",
              "            await google.colab.kernel.invokeFunction('convertToInteractive',\n",
              "                                                     [key], {});\n",
              "          if (!dataTable) return;\n",
              "\n",
              "          const docLinkHtml = 'Like what you see? Visit the ' +\n",
              "            '<a target=\"_blank\" href=https://colab.research.google.com/notebooks/data_table.ipynb>data table notebook</a>'\n",
              "            + ' to learn more about interactive tables.';\n",
              "          element.innerHTML = '';\n",
              "          dataTable['output_type'] = 'display_data';\n",
              "          await google.colab.output.renderOutput(dataTable, element);\n",
              "          const docLink = document.createElement('div');\n",
              "          docLink.innerHTML = docLinkHtml;\n",
              "          element.appendChild(docLink);\n",
              "        }\n",
              "      </script>\n",
              "    </div>\n",
              "  </div>\n",
              "  "
            ]
          },
          "metadata": {},
          "execution_count": 6
        }
      ]
    },
    {
      "cell_type": "code",
      "source": [
        "df.info()"
      ],
      "metadata": {
        "colab": {
          "base_uri": "https://localhost:8080/"
        },
        "id": "2a4Uj2Blonjy",
        "outputId": "9bc7a3a8-ddef-4a7b-e915-33a434812166"
      },
      "execution_count": null,
      "outputs": [
        {
          "output_type": "stream",
          "name": "stdout",
          "text": [
            "<class 'pandas.core.frame.DataFrame'>\n",
            "RangeIndex: 50 entries, 0 to 49\n",
            "Data columns (total 6 columns):\n",
            " #   Column                  Non-Null Count  Dtype  \n",
            "---  ------                  --------------  -----  \n",
            " 0   No.                     50 non-null     int64  \n",
            " 1   Daerah                  50 non-null     object \n",
            " 2   Jumlah RW               50 non-null     int64  \n",
            " 3   Jumlah Kepala Keluarga  50 non-null     int64  \n",
            " 4   Rata2 Usia  Keluarga    50 non-null     float64\n",
            " 5   Nominal Bantuan         50 non-null     object \n",
            "dtypes: float64(1), int64(3), object(2)\n",
            "memory usage: 2.5+ KB\n"
          ]
        }
      ]
    },
    {
      "cell_type": "code",
      "source": [
        "df\n"
      ],
      "metadata": {
        "colab": {
          "base_uri": "https://localhost:8080/",
          "height": 1000
        },
        "id": "M955YsXuuRfZ",
        "outputId": "9c34acb0-c31d-40f0-a311-e1dd380a6cbf"
      },
      "execution_count": null,
      "outputs": [
        {
          "output_type": "execute_result",
          "data": {
            "text/plain": [
              "    No. Daerah  Jumlah RW  Jumlah Kepala Keluarga  Rata2 Usia  Keluarga  \\\n",
              "0     1      A          5                      20                  36.5   \n",
              "1     2      B          4                      18                  42.9   \n",
              "2     3      C          9                      30                  51.6   \n",
              "3     4      D         12                      42                  41.5   \n",
              "4     5      B          4                      50                  32.6   \n",
              "5     6      F         15                      16                  28.9   \n",
              "6     7      D         18                      28                  27.5   \n",
              "7     8      E         11                      36                  36.4   \n",
              "8     9      F         10                      28                  45.7   \n",
              "9    10      A          8                      52                  54.6   \n",
              "10   11      B         14                      43                  29.5   \n",
              "11   12      F         13                      13                  41.8   \n",
              "12   13      D         10                      25                  33.5   \n",
              "13   14      F          8                      30                  27.9   \n",
              "14   15      E          5                      27                  57.6   \n",
              "15   16      C          4                      48                  25.7   \n",
              "16   17      D          6                      45                  34.9   \n",
              "17   18      B          7                      35                  42.9   \n",
              "18   19      E          8                      26                  55.8   \n",
              "19   20      E         11                      18                  32.5   \n",
              "20   21      F         14                      39                  40.5   \n",
              "21   22      E         16                      29                  38.5   \n",
              "22   23      C          4                      24                  24.9   \n",
              "23   24      D         16                      29                  29.8   \n",
              "24   25      A         14                      16                  41.8   \n",
              "25   26      A          7                      58                  35.7   \n",
              "26   27      E         12                      41                  56.8   \n",
              "27   28      B          9                      21                  59.4   \n",
              "28   29      B         18                      34                  51.5   \n",
              "29   30      D         20                      24                  46.8   \n",
              "30   31      B         15                      46                  25.6   \n",
              "31   32      F         13                      33                  37.4   \n",
              "32   33      E          4                      17                  29.6   \n",
              "33   34      D          2                      26                  48.9   \n",
              "34   35      A          3                      39                  54.9   \n",
              "35   36      C         15                      42                  35.7   \n",
              "36   37      E         10                      28                  24.9   \n",
              "37   38      F          9                      34                  42.9   \n",
              "38   39      E         12                      55                  25.8   \n",
              "39   40      D          5                      59                  50.8   \n",
              "40   41      E          6                      40                  31.9   \n",
              "41   42      D          3                      20                  35.8   \n",
              "42   43      F         12                      23                  28.6   \n",
              "43   44      A         19                      15                  52.6   \n",
              "44   45      A         17                      35                  45.4   \n",
              "45   46      B          9                      28                  35.8   \n",
              "46   47      D         11                      30                  40.8   \n",
              "47   48      D          5                      18                  36.8   \n",
              "48   49      F          4                      29                  24.9   \n",
              "49   50      E         10                      47                  33.8   \n",
              "\n",
              "   Nominal Bantuan  \n",
              "0          600.000  \n",
              "1        1.200.000  \n",
              "2          800.000  \n",
              "3        1.200.000  \n",
              "4        1.500.000  \n",
              "5        1.000.000  \n",
              "6          600.000  \n",
              "7          800.000  \n",
              "8        1.200.000  \n",
              "9        1.500.000  \n",
              "10         800.000  \n",
              "11         600.000  \n",
              "12       1.000.000  \n",
              "13         800.000  \n",
              "14       1.000.000  \n",
              "15         800.000  \n",
              "16       1.500.000  \n",
              "17         800.000  \n",
              "18         600.000  \n",
              "19         600.000  \n",
              "20         800.000  \n",
              "21       1.500.000  \n",
              "22         600.000  \n",
              "23       1.500.000  \n",
              "24       1.000.000  \n",
              "25         800.000  \n",
              "26       1.200.000  \n",
              "27         600.000  \n",
              "28       1.500.000  \n",
              "29       1.200.000  \n",
              "30       1.000.000  \n",
              "31         600.000  \n",
              "32       1.200.000  \n",
              "33       1.000.000  \n",
              "34       1.200.000  \n",
              "35         800.000  \n",
              "36       1.000.000  \n",
              "37       1.200.000  \n",
              "38         800.000  \n",
              "39       1.200.000  \n",
              "40         800.000  \n",
              "41       1.500.000  \n",
              "42         600.000  \n",
              "43       1.200.000  \n",
              "44       1.000.000  \n",
              "45       1.200.000  \n",
              "46         800.000  \n",
              "47       1.500.000  \n",
              "48       1.000.000  \n",
              "49         600.000  "
            ],
            "text/html": [
              "\n",
              "  <div id=\"df-e1a8ab15-aba3-4625-a75a-aa16cf544731\">\n",
              "    <div class=\"colab-df-container\">\n",
              "      <div>\n",
              "<style scoped>\n",
              "    .dataframe tbody tr th:only-of-type {\n",
              "        vertical-align: middle;\n",
              "    }\n",
              "\n",
              "    .dataframe tbody tr th {\n",
              "        vertical-align: top;\n",
              "    }\n",
              "\n",
              "    .dataframe thead th {\n",
              "        text-align: right;\n",
              "    }\n",
              "</style>\n",
              "<table border=\"1\" class=\"dataframe\">\n",
              "  <thead>\n",
              "    <tr style=\"text-align: right;\">\n",
              "      <th></th>\n",
              "      <th>No.</th>\n",
              "      <th>Daerah</th>\n",
              "      <th>Jumlah RW</th>\n",
              "      <th>Jumlah Kepala Keluarga</th>\n",
              "      <th>Rata2 Usia  Keluarga</th>\n",
              "      <th>Nominal Bantuan</th>\n",
              "    </tr>\n",
              "  </thead>\n",
              "  <tbody>\n",
              "    <tr>\n",
              "      <th>0</th>\n",
              "      <td>1</td>\n",
              "      <td>A</td>\n",
              "      <td>5</td>\n",
              "      <td>20</td>\n",
              "      <td>36.5</td>\n",
              "      <td>600.000</td>\n",
              "    </tr>\n",
              "    <tr>\n",
              "      <th>1</th>\n",
              "      <td>2</td>\n",
              "      <td>B</td>\n",
              "      <td>4</td>\n",
              "      <td>18</td>\n",
              "      <td>42.9</td>\n",
              "      <td>1.200.000</td>\n",
              "    </tr>\n",
              "    <tr>\n",
              "      <th>2</th>\n",
              "      <td>3</td>\n",
              "      <td>C</td>\n",
              "      <td>9</td>\n",
              "      <td>30</td>\n",
              "      <td>51.6</td>\n",
              "      <td>800.000</td>\n",
              "    </tr>\n",
              "    <tr>\n",
              "      <th>3</th>\n",
              "      <td>4</td>\n",
              "      <td>D</td>\n",
              "      <td>12</td>\n",
              "      <td>42</td>\n",
              "      <td>41.5</td>\n",
              "      <td>1.200.000</td>\n",
              "    </tr>\n",
              "    <tr>\n",
              "      <th>4</th>\n",
              "      <td>5</td>\n",
              "      <td>B</td>\n",
              "      <td>4</td>\n",
              "      <td>50</td>\n",
              "      <td>32.6</td>\n",
              "      <td>1.500.000</td>\n",
              "    </tr>\n",
              "    <tr>\n",
              "      <th>5</th>\n",
              "      <td>6</td>\n",
              "      <td>F</td>\n",
              "      <td>15</td>\n",
              "      <td>16</td>\n",
              "      <td>28.9</td>\n",
              "      <td>1.000.000</td>\n",
              "    </tr>\n",
              "    <tr>\n",
              "      <th>6</th>\n",
              "      <td>7</td>\n",
              "      <td>D</td>\n",
              "      <td>18</td>\n",
              "      <td>28</td>\n",
              "      <td>27.5</td>\n",
              "      <td>600.000</td>\n",
              "    </tr>\n",
              "    <tr>\n",
              "      <th>7</th>\n",
              "      <td>8</td>\n",
              "      <td>E</td>\n",
              "      <td>11</td>\n",
              "      <td>36</td>\n",
              "      <td>36.4</td>\n",
              "      <td>800.000</td>\n",
              "    </tr>\n",
              "    <tr>\n",
              "      <th>8</th>\n",
              "      <td>9</td>\n",
              "      <td>F</td>\n",
              "      <td>10</td>\n",
              "      <td>28</td>\n",
              "      <td>45.7</td>\n",
              "      <td>1.200.000</td>\n",
              "    </tr>\n",
              "    <tr>\n",
              "      <th>9</th>\n",
              "      <td>10</td>\n",
              "      <td>A</td>\n",
              "      <td>8</td>\n",
              "      <td>52</td>\n",
              "      <td>54.6</td>\n",
              "      <td>1.500.000</td>\n",
              "    </tr>\n",
              "    <tr>\n",
              "      <th>10</th>\n",
              "      <td>11</td>\n",
              "      <td>B</td>\n",
              "      <td>14</td>\n",
              "      <td>43</td>\n",
              "      <td>29.5</td>\n",
              "      <td>800.000</td>\n",
              "    </tr>\n",
              "    <tr>\n",
              "      <th>11</th>\n",
              "      <td>12</td>\n",
              "      <td>F</td>\n",
              "      <td>13</td>\n",
              "      <td>13</td>\n",
              "      <td>41.8</td>\n",
              "      <td>600.000</td>\n",
              "    </tr>\n",
              "    <tr>\n",
              "      <th>12</th>\n",
              "      <td>13</td>\n",
              "      <td>D</td>\n",
              "      <td>10</td>\n",
              "      <td>25</td>\n",
              "      <td>33.5</td>\n",
              "      <td>1.000.000</td>\n",
              "    </tr>\n",
              "    <tr>\n",
              "      <th>13</th>\n",
              "      <td>14</td>\n",
              "      <td>F</td>\n",
              "      <td>8</td>\n",
              "      <td>30</td>\n",
              "      <td>27.9</td>\n",
              "      <td>800.000</td>\n",
              "    </tr>\n",
              "    <tr>\n",
              "      <th>14</th>\n",
              "      <td>15</td>\n",
              "      <td>E</td>\n",
              "      <td>5</td>\n",
              "      <td>27</td>\n",
              "      <td>57.6</td>\n",
              "      <td>1.000.000</td>\n",
              "    </tr>\n",
              "    <tr>\n",
              "      <th>15</th>\n",
              "      <td>16</td>\n",
              "      <td>C</td>\n",
              "      <td>4</td>\n",
              "      <td>48</td>\n",
              "      <td>25.7</td>\n",
              "      <td>800.000</td>\n",
              "    </tr>\n",
              "    <tr>\n",
              "      <th>16</th>\n",
              "      <td>17</td>\n",
              "      <td>D</td>\n",
              "      <td>6</td>\n",
              "      <td>45</td>\n",
              "      <td>34.9</td>\n",
              "      <td>1.500.000</td>\n",
              "    </tr>\n",
              "    <tr>\n",
              "      <th>17</th>\n",
              "      <td>18</td>\n",
              "      <td>B</td>\n",
              "      <td>7</td>\n",
              "      <td>35</td>\n",
              "      <td>42.9</td>\n",
              "      <td>800.000</td>\n",
              "    </tr>\n",
              "    <tr>\n",
              "      <th>18</th>\n",
              "      <td>19</td>\n",
              "      <td>E</td>\n",
              "      <td>8</td>\n",
              "      <td>26</td>\n",
              "      <td>55.8</td>\n",
              "      <td>600.000</td>\n",
              "    </tr>\n",
              "    <tr>\n",
              "      <th>19</th>\n",
              "      <td>20</td>\n",
              "      <td>E</td>\n",
              "      <td>11</td>\n",
              "      <td>18</td>\n",
              "      <td>32.5</td>\n",
              "      <td>600.000</td>\n",
              "    </tr>\n",
              "    <tr>\n",
              "      <th>20</th>\n",
              "      <td>21</td>\n",
              "      <td>F</td>\n",
              "      <td>14</td>\n",
              "      <td>39</td>\n",
              "      <td>40.5</td>\n",
              "      <td>800.000</td>\n",
              "    </tr>\n",
              "    <tr>\n",
              "      <th>21</th>\n",
              "      <td>22</td>\n",
              "      <td>E</td>\n",
              "      <td>16</td>\n",
              "      <td>29</td>\n",
              "      <td>38.5</td>\n",
              "      <td>1.500.000</td>\n",
              "    </tr>\n",
              "    <tr>\n",
              "      <th>22</th>\n",
              "      <td>23</td>\n",
              "      <td>C</td>\n",
              "      <td>4</td>\n",
              "      <td>24</td>\n",
              "      <td>24.9</td>\n",
              "      <td>600.000</td>\n",
              "    </tr>\n",
              "    <tr>\n",
              "      <th>23</th>\n",
              "      <td>24</td>\n",
              "      <td>D</td>\n",
              "      <td>16</td>\n",
              "      <td>29</td>\n",
              "      <td>29.8</td>\n",
              "      <td>1.500.000</td>\n",
              "    </tr>\n",
              "    <tr>\n",
              "      <th>24</th>\n",
              "      <td>25</td>\n",
              "      <td>A</td>\n",
              "      <td>14</td>\n",
              "      <td>16</td>\n",
              "      <td>41.8</td>\n",
              "      <td>1.000.000</td>\n",
              "    </tr>\n",
              "    <tr>\n",
              "      <th>25</th>\n",
              "      <td>26</td>\n",
              "      <td>A</td>\n",
              "      <td>7</td>\n",
              "      <td>58</td>\n",
              "      <td>35.7</td>\n",
              "      <td>800.000</td>\n",
              "    </tr>\n",
              "    <tr>\n",
              "      <th>26</th>\n",
              "      <td>27</td>\n",
              "      <td>E</td>\n",
              "      <td>12</td>\n",
              "      <td>41</td>\n",
              "      <td>56.8</td>\n",
              "      <td>1.200.000</td>\n",
              "    </tr>\n",
              "    <tr>\n",
              "      <th>27</th>\n",
              "      <td>28</td>\n",
              "      <td>B</td>\n",
              "      <td>9</td>\n",
              "      <td>21</td>\n",
              "      <td>59.4</td>\n",
              "      <td>600.000</td>\n",
              "    </tr>\n",
              "    <tr>\n",
              "      <th>28</th>\n",
              "      <td>29</td>\n",
              "      <td>B</td>\n",
              "      <td>18</td>\n",
              "      <td>34</td>\n",
              "      <td>51.5</td>\n",
              "      <td>1.500.000</td>\n",
              "    </tr>\n",
              "    <tr>\n",
              "      <th>29</th>\n",
              "      <td>30</td>\n",
              "      <td>D</td>\n",
              "      <td>20</td>\n",
              "      <td>24</td>\n",
              "      <td>46.8</td>\n",
              "      <td>1.200.000</td>\n",
              "    </tr>\n",
              "    <tr>\n",
              "      <th>30</th>\n",
              "      <td>31</td>\n",
              "      <td>B</td>\n",
              "      <td>15</td>\n",
              "      <td>46</td>\n",
              "      <td>25.6</td>\n",
              "      <td>1.000.000</td>\n",
              "    </tr>\n",
              "    <tr>\n",
              "      <th>31</th>\n",
              "      <td>32</td>\n",
              "      <td>F</td>\n",
              "      <td>13</td>\n",
              "      <td>33</td>\n",
              "      <td>37.4</td>\n",
              "      <td>600.000</td>\n",
              "    </tr>\n",
              "    <tr>\n",
              "      <th>32</th>\n",
              "      <td>33</td>\n",
              "      <td>E</td>\n",
              "      <td>4</td>\n",
              "      <td>17</td>\n",
              "      <td>29.6</td>\n",
              "      <td>1.200.000</td>\n",
              "    </tr>\n",
              "    <tr>\n",
              "      <th>33</th>\n",
              "      <td>34</td>\n",
              "      <td>D</td>\n",
              "      <td>2</td>\n",
              "      <td>26</td>\n",
              "      <td>48.9</td>\n",
              "      <td>1.000.000</td>\n",
              "    </tr>\n",
              "    <tr>\n",
              "      <th>34</th>\n",
              "      <td>35</td>\n",
              "      <td>A</td>\n",
              "      <td>3</td>\n",
              "      <td>39</td>\n",
              "      <td>54.9</td>\n",
              "      <td>1.200.000</td>\n",
              "    </tr>\n",
              "    <tr>\n",
              "      <th>35</th>\n",
              "      <td>36</td>\n",
              "      <td>C</td>\n",
              "      <td>15</td>\n",
              "      <td>42</td>\n",
              "      <td>35.7</td>\n",
              "      <td>800.000</td>\n",
              "    </tr>\n",
              "    <tr>\n",
              "      <th>36</th>\n",
              "      <td>37</td>\n",
              "      <td>E</td>\n",
              "      <td>10</td>\n",
              "      <td>28</td>\n",
              "      <td>24.9</td>\n",
              "      <td>1.000.000</td>\n",
              "    </tr>\n",
              "    <tr>\n",
              "      <th>37</th>\n",
              "      <td>38</td>\n",
              "      <td>F</td>\n",
              "      <td>9</td>\n",
              "      <td>34</td>\n",
              "      <td>42.9</td>\n",
              "      <td>1.200.000</td>\n",
              "    </tr>\n",
              "    <tr>\n",
              "      <th>38</th>\n",
              "      <td>39</td>\n",
              "      <td>E</td>\n",
              "      <td>12</td>\n",
              "      <td>55</td>\n",
              "      <td>25.8</td>\n",
              "      <td>800.000</td>\n",
              "    </tr>\n",
              "    <tr>\n",
              "      <th>39</th>\n",
              "      <td>40</td>\n",
              "      <td>D</td>\n",
              "      <td>5</td>\n",
              "      <td>59</td>\n",
              "      <td>50.8</td>\n",
              "      <td>1.200.000</td>\n",
              "    </tr>\n",
              "    <tr>\n",
              "      <th>40</th>\n",
              "      <td>41</td>\n",
              "      <td>E</td>\n",
              "      <td>6</td>\n",
              "      <td>40</td>\n",
              "      <td>31.9</td>\n",
              "      <td>800.000</td>\n",
              "    </tr>\n",
              "    <tr>\n",
              "      <th>41</th>\n",
              "      <td>42</td>\n",
              "      <td>D</td>\n",
              "      <td>3</td>\n",
              "      <td>20</td>\n",
              "      <td>35.8</td>\n",
              "      <td>1.500.000</td>\n",
              "    </tr>\n",
              "    <tr>\n",
              "      <th>42</th>\n",
              "      <td>43</td>\n",
              "      <td>F</td>\n",
              "      <td>12</td>\n",
              "      <td>23</td>\n",
              "      <td>28.6</td>\n",
              "      <td>600.000</td>\n",
              "    </tr>\n",
              "    <tr>\n",
              "      <th>43</th>\n",
              "      <td>44</td>\n",
              "      <td>A</td>\n",
              "      <td>19</td>\n",
              "      <td>15</td>\n",
              "      <td>52.6</td>\n",
              "      <td>1.200.000</td>\n",
              "    </tr>\n",
              "    <tr>\n",
              "      <th>44</th>\n",
              "      <td>45</td>\n",
              "      <td>A</td>\n",
              "      <td>17</td>\n",
              "      <td>35</td>\n",
              "      <td>45.4</td>\n",
              "      <td>1.000.000</td>\n",
              "    </tr>\n",
              "    <tr>\n",
              "      <th>45</th>\n",
              "      <td>46</td>\n",
              "      <td>B</td>\n",
              "      <td>9</td>\n",
              "      <td>28</td>\n",
              "      <td>35.8</td>\n",
              "      <td>1.200.000</td>\n",
              "    </tr>\n",
              "    <tr>\n",
              "      <th>46</th>\n",
              "      <td>47</td>\n",
              "      <td>D</td>\n",
              "      <td>11</td>\n",
              "      <td>30</td>\n",
              "      <td>40.8</td>\n",
              "      <td>800.000</td>\n",
              "    </tr>\n",
              "    <tr>\n",
              "      <th>47</th>\n",
              "      <td>48</td>\n",
              "      <td>D</td>\n",
              "      <td>5</td>\n",
              "      <td>18</td>\n",
              "      <td>36.8</td>\n",
              "      <td>1.500.000</td>\n",
              "    </tr>\n",
              "    <tr>\n",
              "      <th>48</th>\n",
              "      <td>49</td>\n",
              "      <td>F</td>\n",
              "      <td>4</td>\n",
              "      <td>29</td>\n",
              "      <td>24.9</td>\n",
              "      <td>1.000.000</td>\n",
              "    </tr>\n",
              "    <tr>\n",
              "      <th>49</th>\n",
              "      <td>50</td>\n",
              "      <td>E</td>\n",
              "      <td>10</td>\n",
              "      <td>47</td>\n",
              "      <td>33.8</td>\n",
              "      <td>600.000</td>\n",
              "    </tr>\n",
              "  </tbody>\n",
              "</table>\n",
              "</div>\n",
              "      <button class=\"colab-df-convert\" onclick=\"convertToInteractive('df-e1a8ab15-aba3-4625-a75a-aa16cf544731')\"\n",
              "              title=\"Convert this dataframe to an interactive table.\"\n",
              "              style=\"display:none;\">\n",
              "        \n",
              "  <svg xmlns=\"http://www.w3.org/2000/svg\" height=\"24px\"viewBox=\"0 0 24 24\"\n",
              "       width=\"24px\">\n",
              "    <path d=\"M0 0h24v24H0V0z\" fill=\"none\"/>\n",
              "    <path d=\"M18.56 5.44l.94 2.06.94-2.06 2.06-.94-2.06-.94-.94-2.06-.94 2.06-2.06.94zm-11 1L8.5 8.5l.94-2.06 2.06-.94-2.06-.94L8.5 2.5l-.94 2.06-2.06.94zm10 10l.94 2.06.94-2.06 2.06-.94-2.06-.94-.94-2.06-.94 2.06-2.06.94z\"/><path d=\"M17.41 7.96l-1.37-1.37c-.4-.4-.92-.59-1.43-.59-.52 0-1.04.2-1.43.59L10.3 9.45l-7.72 7.72c-.78.78-.78 2.05 0 2.83L4 21.41c.39.39.9.59 1.41.59.51 0 1.02-.2 1.41-.59l7.78-7.78 2.81-2.81c.8-.78.8-2.07 0-2.86zM5.41 20L4 18.59l7.72-7.72 1.47 1.35L5.41 20z\"/>\n",
              "  </svg>\n",
              "      </button>\n",
              "      \n",
              "  <style>\n",
              "    .colab-df-container {\n",
              "      display:flex;\n",
              "      flex-wrap:wrap;\n",
              "      gap: 12px;\n",
              "    }\n",
              "\n",
              "    .colab-df-convert {\n",
              "      background-color: #E8F0FE;\n",
              "      border: none;\n",
              "      border-radius: 50%;\n",
              "      cursor: pointer;\n",
              "      display: none;\n",
              "      fill: #1967D2;\n",
              "      height: 32px;\n",
              "      padding: 0 0 0 0;\n",
              "      width: 32px;\n",
              "    }\n",
              "\n",
              "    .colab-df-convert:hover {\n",
              "      background-color: #E2EBFA;\n",
              "      box-shadow: 0px 1px 2px rgba(60, 64, 67, 0.3), 0px 1px 3px 1px rgba(60, 64, 67, 0.15);\n",
              "      fill: #174EA6;\n",
              "    }\n",
              "\n",
              "    [theme=dark] .colab-df-convert {\n",
              "      background-color: #3B4455;\n",
              "      fill: #D2E3FC;\n",
              "    }\n",
              "\n",
              "    [theme=dark] .colab-df-convert:hover {\n",
              "      background-color: #434B5C;\n",
              "      box-shadow: 0px 1px 3px 1px rgba(0, 0, 0, 0.15);\n",
              "      filter: drop-shadow(0px 1px 2px rgba(0, 0, 0, 0.3));\n",
              "      fill: #FFFFFF;\n",
              "    }\n",
              "  </style>\n",
              "\n",
              "      <script>\n",
              "        const buttonEl =\n",
              "          document.querySelector('#df-e1a8ab15-aba3-4625-a75a-aa16cf544731 button.colab-df-convert');\n",
              "        buttonEl.style.display =\n",
              "          google.colab.kernel.accessAllowed ? 'block' : 'none';\n",
              "\n",
              "        async function convertToInteractive(key) {\n",
              "          const element = document.querySelector('#df-e1a8ab15-aba3-4625-a75a-aa16cf544731');\n",
              "          const dataTable =\n",
              "            await google.colab.kernel.invokeFunction('convertToInteractive',\n",
              "                                                     [key], {});\n",
              "          if (!dataTable) return;\n",
              "\n",
              "          const docLinkHtml = 'Like what you see? Visit the ' +\n",
              "            '<a target=\"_blank\" href=https://colab.research.google.com/notebooks/data_table.ipynb>data table notebook</a>'\n",
              "            + ' to learn more about interactive tables.';\n",
              "          element.innerHTML = '';\n",
              "          dataTable['output_type'] = 'display_data';\n",
              "          await google.colab.output.renderOutput(dataTable, element);\n",
              "          const docLink = document.createElement('div');\n",
              "          docLink.innerHTML = docLinkHtml;\n",
              "          element.appendChild(docLink);\n",
              "        }\n",
              "      </script>\n",
              "    </div>\n",
              "  </div>\n",
              "  "
            ]
          },
          "metadata": {},
          "execution_count": 71
        }
      ]
    },
    {
      "cell_type": "code",
      "source": [
        "df.shape"
      ],
      "metadata": {
        "colab": {
          "base_uri": "https://localhost:8080/"
        },
        "id": "E1WA7ljkuY1Y",
        "outputId": "eac4b9ce-0b5a-4e43-9bd5-b6ea0610d1c3"
      },
      "execution_count": null,
      "outputs": [
        {
          "output_type": "execute_result",
          "data": {
            "text/plain": [
              "(50, 6)"
            ]
          },
          "metadata": {},
          "execution_count": 72
        }
      ]
    },
    {
      "cell_type": "code",
      "source": [
        "df.isnull().sum()"
      ],
      "metadata": {
        "colab": {
          "base_uri": "https://localhost:8080/"
        },
        "id": "zKVRzyZxub-p",
        "outputId": "be990e55-fcf2-4c13-e83c-b33335531a9e"
      },
      "execution_count": null,
      "outputs": [
        {
          "output_type": "execute_result",
          "data": {
            "text/plain": [
              "No.                       0\n",
              "Daerah                    0\n",
              "Jumlah RW                 0\n",
              "Jumlah Kepala Keluarga    0\n",
              "Rata2 Usia  Keluarga      0\n",
              "Nominal Bantuan           0\n",
              "dtype: int64"
            ]
          },
          "metadata": {},
          "execution_count": 73
        }
      ]
    },
    {
      "cell_type": "code",
      "source": [
        "import matplotlib.pyplot as plt\n",
        "\n",
        "plt.scatter(df['Daerah'], df['Jumlah RW'])\n",
        "plt.title('Tabel daerah')\n",
        "plt.xlabel('Daerah')\n",
        "plt.ylabel('jumlah rw')\n",
        "plt.grid(True)\n",
        "plt.show()"
      ],
      "metadata": {
        "colab": {
          "base_uri": "https://localhost:8080/",
          "height": 295
        },
        "id": "XJX_PGuzud5q",
        "outputId": "180ad5fb-0b11-4ac3-a7af-c3fa4e017634"
      },
      "execution_count": null,
      "outputs": [
        {
          "output_type": "display_data",
          "data": {
            "text/plain": [
              "<Figure size 432x288 with 1 Axes>"
            ],
            "image/png": "[encoded data removed]"
          },
          "metadata": {
            "needs_background": "light"
          }
        }
      ]
    },
    {
      "cell_type": "code",
      "source": [
        "print(\"[SOAL1\")\n",
        "hasil = 5+8+14+7+3+19+17\n",
        "print(\"Jumlah  RW A : \"+str(hasil))\n",
        "\n",
        "hasil2 = 4+4+14+7+9+18+15+9\n",
        "print(\"Jumlah  RW B : \"+str(hasil2))\n",
        "\n",
        "hasil3 = 9+4+4+15\n",
        "print(\"Jumlah  RW C : \"+str(hasil3))\n",
        "\n",
        "hasil4 = 12+18+10+6+16+20+2+3+5+11+5\n",
        "print(\"Jumlah  RW A : \"+str(hasil4))\n",
        "\n",
        "hasil5 = 11+5+8+11+16+12+4+12+6+10+10\n",
        "print(\"Jumlah  RW E : \"+str(hasil5))\n",
        "\n",
        "jml = hasil + hasil2 + hasil3 + hasil4 + hasil5\n",
        "print(\"jumlah keseliruhan RW : \"+str(jml))\n",
        "print(\"\")\n",
        "hasil = 20+52+16+58+39+15+35\n",
        "print(\"Jumlah  KK A : \"+str(hasil))\n",
        "\n",
        "hasil2 = 18+50+43+35+21+34+46+28\n",
        "print(\"Jumlah  KK B : \"+str(hasil2))\n",
        "\n",
        "hasil3 = 30+48+24+42\n",
        "print(\"Jumlah  KK C : \"+str(hasil3))\n",
        "\n",
        "hasil4 = 42+28+25+45+29+24+26+59+20+30+18\n",
        "print(\"Jumlah  KK D : \"+str(hasil4))\n",
        "\n",
        "hasil5 = 36+27+26+18+29+41+17+28+55+40+47\n",
        "print(\"Jumlah  KK B : \"+str(hasil5))\n",
        "\n",
        "jum = hasil + hasil2 + hasil3 + hasil4 + hasil5\n",
        "print(\"jumlah keseliruhan KK : \"+str(jum))\n",
        "\n",
        "print(\"\")\n",
        "import matplotlib.pyplot as plt\n",
        "fig = plt.figure()\n",
        "ax = fig.add_axes([0,0,1,1])\n",
        "daerah = [\"A\",\"B\",\"C\",\"D\",\"E\"]\n",
        "jumlah = [73,80,32,108,105]\n",
        "c = ['blue', 'green', 'red', 'purple', 'yellow', 'black', 'brown']\n",
        "plt.title(\"tabelRW\")\n",
        "plt.bar(daerah, jumlah, color = c)\n",
        "plt.show()\n",
        "\n",
        "fig = plt.figure()\n",
        "ax = fig.add_axes([0,0,1,1])\n",
        "ax.axis('equal')\n",
        "daerah = [\"A\",\"B\",\"C\",\"D\",\"E\"]\n",
        "jumlah = [73,80,32,108,105]\n",
        "ax.pie(jumlah, labels=daerah,autopct='%1.2f%%')\n",
        "plt.title(\"tabelRW\")\n",
        "plt.show()\n",
        "\n",
        "print(\"\")\n",
        "\n",
        "fig = plt.figure()\n",
        "ax = fig.add_axes([0,0,1,1])\n",
        "daerah = [\"A\",\"B\",\"C\",\"D\",\"E\"]\n",
        "jumlah = [235,275,144,346,364]\n",
        "c = ['blue', 'green', 'red', 'purple', 'yellow', 'black', 'brown']\n",
        "plt.title(\"tabel KK\")\n",
        "plt.bar(daerah, jumlah, color = c)\n",
        "plt.show()\n",
        "\n",
        "fig = plt.figure()\n",
        "ax = fig.add_axes([0,0,1,1])\n",
        "ax.axis('equal')\n",
        "daerah = [\"A\",\"B\",\"C\",\"D\",\"E\"]\n",
        "jumlah = [235,275,144,346,364]\n",
        "ax.pie(jumlah, labels=daerah,autopct='%1.2f%%')\n",
        "plt.title(\"tabel KK\")\n",
        "plt.show()"
      ],
      "metadata": {
        "colab": {
          "base_uri": "https://localhost:8080/",
          "height": 1000
        },
        "id": "he_SfndPvTx_",
        "outputId": "6819389c-4ed6-4b0d-dbaf-678475e4a599"
      },
      "execution_count": null,
      "outputs": [
        {
          "output_type": "stream",
          "name": "stdout",
          "text": [
            "Jumlah  RW A : 73\n",
            "Jumlah  RW B : 80\n",
            "Jumlah  RW C : 32\n",
            "Jumlah  RW A : 108\n",
            "Jumlah  RW E : 105\n",
            "jumlah keseliruhan RW : 398\n",
            "\n",
            "Jumlah  KK A : 235\n",
            "Jumlah  KK B : 275\n",
            "Jumlah  KK C : 144\n",
            "Jumlah  KK D : 346\n",
            "Jumlah  KK B : 364\n",
            "jumlah keseliruhan KK : 1364\n",
            "\n"
          ]
        },
        {
          "output_type": "display_data",
          "data": {
            "text/plain": [
              "<Figure size 432x288 with 1 Axes>"
            ],
            "image/png": "[encoded data removed]"
          },
          "metadata": {
            "needs_background": "light"
          }
        },
        {
          "output_type": "display_data",
          "data": {
            "text/plain": [
              "<Figure size 432x288 with 1 Axes>"
            ],
            "image/png": "[encoded data removed]"
          },
          "metadata": {}
        },
        {
          "output_type": "stream",
          "name": "stdout",
          "text": [
            "\n"
          ]
        },
        {
          "output_type": "display_data",
          "data": {
            "text/plain": [
              "<Figure size 432x288 with 1 Axes>"
            ],
            "image/png": "[encoded data removed]"
          },
          "metadata": {
            "needs_background": "light"
          }
        },
        {
          "output_type": "display_data",
          "data": {
            "text/plain": [
              "<Figure size 432x288 with 1 Axes>"
            ],
            "image/png": "[encoded data removed]"
          },
          "metadata": {}
        }
      ]
    },
    {
      "cell_type": "code",
      "source": [
        "print(\"[SOAL2\")\n",
        "hasil = 51.6+54.6+57.6+55.8+56.8+59.4+51.5+54.9+50.8+52.6\n",
        "print(\"maka total rentang usia >50 adalah : \" +str(hasil))\n",
        "\n",
        "hasil2 = 42.9+41.5+45.7+41.8+42.9+40.5+41.8+46.8+48.9+42.9+45.4+40.8\n",
        "print(\"maka total rentang usia >40 adalah : \" +str(hasil2))\n",
        "      \n",
        "hasil3 = 36.5+32.6+36.4+33.5+34.9+32.5+38.5+35.7+37.4+35.7+31.9+35.8+35.8+36.8+33.8\n",
        "print(\"maka total rentang usia >30 adalah : \" +str(hasil3))\t\n",
        "\n",
        "hasil4 = 28.9+27.5+29.5+27.9+25.7+24.9+29.8+25.6+29.6+24.9+25.8+28.6+24.9\n",
        "print(\"maka total rentang usia >20 adalah : \" +str(hasil4))\n",
        "\n",
        "jum = hasil + hasil2 + hasil3 + hasil4 \n",
        "print(\"jumlah keseliruhan : \"+str(jum))\n",
        "print(\"\")\n",
        "fig = plt.figure()\n",
        "ax = fig.add_axes([0,0,1,1])\n",
        "usia = [\">50\",\">40\",\">30\",\">20\"]\n",
        "jumlah = [545.6,521.9,527.8,353.6]\n",
        "c = ['blue', 'green', 'red', 'purple', 'yellow', 'black', 'brown']\n",
        "plt.title(\"tabel usia\")\n",
        "plt.bar(usia, jumlah, color = c)\n",
        "plt.show()\n",
        "\n",
        "\n",
        "fig = plt.figure()\n",
        "ax = fig.add_axes([0,0,1,1])\n",
        "ax.axis('equal')\n",
        "usia = [\">50\",\">40\",\">30\",\">20\"]\n",
        "jumlah = [545.6,521.9,527.8,353.6]\n",
        "ax.pie(jumlah, labels=usia,autopct='%1.2f%%')\n",
        "plt.title(\"tabel KK\")\n",
        "plt.show()\n"
      ],
      "metadata": {
        "colab": {
          "base_uri": "https://localhost:8080/",
          "height": 774
        },
        "id": "daOCws034EWR",
        "outputId": "e9030892-f1e3-4bf6-8bde-fc56e4373178"
      },
      "execution_count": null,
      "outputs": [
        {
          "output_type": "stream",
          "name": "stdout",
          "text": [
            "maka total rentang usia >50 adalah : 545.6\n",
            "maka total rentang usia >40 adalah : 521.9\n",
            "maka total rentang usia >30 adalah : 527.8\n",
            "maka total rentang usia >20 adalah : 353.6\n",
            "jumlah keseliruhan : 1948.9\n",
            "\n"
          ]
        },
        {
          "output_type": "display_data",
          "data": {
            "text/plain": [
              "<Figure size 432x288 with 1 Axes>"
            ],
            "image/png": "[encoded data removed]"
          },
          "metadata": {
            "needs_background": "light"
          }
        },
        {
          "output_type": "display_data",
          "data": {
            "text/plain": [
              "<Figure size 432x288 with 1 Axes>"
            ],
            "image/png": "[encoded data removed]"
          },
          "metadata": {}
        }
      ]
    },
    {
      "cell_type": "code",
      "source": [
        "print(\"[SOAL3]\")\n",
        "hasil = 5+4+9+4+8+8+5+4+6+7+8+4+7+9+4+2+3+9+5+6+3+9+5+4+10+10+10+10\n",
        "print(\"hasil <10 adalah : \"+str(hasil))\n",
        "\n",
        "hasil2 = 12+15+18+11+14+13++11+14+16+16+14+12+18+20+15+13+15++12+12+19+17+11\n",
        "print(\"hasil >10 adalah : \"+str(hasil2))\n",
        "\n",
        "total = 600000+1200000+800000+1500000+1200000+1500000+1000000+800000+1000000+800000+1500000+800000+600000+800000+600000+1200000+1000000+1200000+1000000+1200000+1200000+800000+1500000+1200000+1500000+1000000+600000+600000\n",
        "print(\"hasil bantuan >10 adalah : \"+str(total))\n",
        "\n",
        "total2 = 1200000+600000+800000+800000+600000+1000000+600000+800000+1500000+1500000+1000000+1200000+1500000+1200000+1000000+600000+800000+800000+600000+1200000+1000000+800000+600000\n",
        "print(\"hasil bantuan >10 adalah : \"+str(total2))\n"
      ],
      "metadata": {
        "colab": {
          "base_uri": "https://localhost:8080/"
        },
        "id": "nr8zet-wD4lP",
        "outputId": "15a32ee6-fea9-40d2-9b85-ea50c78c11a1"
      },
      "execution_count": null,
      "outputs": [
        {
          "output_type": "stream",
          "name": "stdout",
          "text": [
            "hasil <10 adalah : 178\n",
            "hasil >10 adalah : 318\n",
            "hasil bantuan >10 adalah : 28700000\n",
            "hasil bantuan >10 adalah : 21700000\n"
          ]
        }
      ]
    },
    {
      "cell_type": "code",
      "source": [
        "print(\"[soal4]\")\n",
        "hasil = 800000+1500000+1000000+600000+1200000+600000+1500000+1200000+1200000+1200000\n",
        "print(\"hasil bantuan >50 adalah : \"+str(hasil))\n",
        "\n",
        "hasil2 = 1200000+1200000+600000+800000+800000+1000000+1200000+1000000+1200000+1000000+800000\n",
        "print(\"hasil bantuan >40 adalah : \"+str(hasil2))\n",
        "\n",
        "hasil3 = 600000+1500000+800000+1000000+1500000+600000+1500000+800000+600000+800000+800000+1500000+1200000+1500000\n",
        "print(\"hasil bantuan >30 adalah : \"+str(hasil3))\n",
        "\n",
        "hasil4 = 1000000+600000+800000+800000+800000+600000+1500000+1000000+1200000+1000000+800000+600000+1000000\n",
        "print(\"hasil bantuan >20 adalah : \"+str(hasil4))\n",
        "print(\"\")\n",
        "import matplotlib.pyplot as plt\n",
        "fig = plt.figure()\n",
        "ax = fig.add_axes([0,0,1,1])\n",
        "daerah = [\">50\",\">40\",\">30\",\">20\"]\n",
        "jumlah = [10800000,10800000, 14700000,11700000]\n",
        "c = ['blue', 'green', 'red', 'purple', 'yellow', 'black', 'brown']\n",
        "plt.title(\"tabel KK\")\n",
        "plt.bar(daerah, jumlah, color = c)\n",
        "plt.show()\n",
        "\n",
        "fig = plt.figure()\n",
        "ax = fig.add_axes([0,0,1,1])\n",
        "ax.axis('equal')\n",
        "daerah = [\">50\",\">40\",\">30\",\">20\"]\n",
        "jumlah = [10800000,10800000, 14700000,11700000]\n",
        "ax.pie(jumlah, labels=daerah,autopct='%1.2f%%')\n",
        "plt.title(\"tabel KK\")\n",
        "plt.show()"
      ],
      "metadata": {
        "colab": {
          "base_uri": "https://localhost:8080/",
          "height": 774
        },
        "id": "T9UN7Krq7vFj",
        "outputId": "d24b9aac-60c9-48c3-d01f-899e758797dd"
      },
      "execution_count": null,
      "outputs": [
        {
          "output_type": "stream",
          "name": "stdout",
          "text": [
            "[soal4]\n",
            "hasil bantuan >50 adalah : 10800000\n",
            "hasil bantuan >40 adalah : 10800000\n",
            "hasil bantuan >30 adalah : 14700000\n",
            "hasil bantuan >20 adalah : 11700000\n",
            "\n"
          ]
        },
        {
          "output_type": "display_data",
          "data": {
            "text/plain": [
              "<Figure size 432x288 with 1 Axes>"
            ],
            "image/png": "[encoded data removed]"
          },
          "metadata": {
            "needs_background": "light"
          }
        },
        {
          "output_type": "display_data",
          "data": {
            "text/plain": [
              "<Figure size 432x288 with 1 Axes>"
            ],
            "image/png": "[encoded data removed]"
          },
          "metadata": {}
        }
      ]
    },
    {
      "cell_type": "code",
      "source": [
        "print(\"[SOAL5]\")\n",
        "hasil = 600000+1200000+800000+1200000+1500000+1000000+600000+800000+1200000+1500000+800000+600000+1000000+800000+1000000+800000+1500000+800000+600000+600000+800000+1500000+600000+1500000+1000000+800000+1200000+600000+1500000+1200000+1000000+600000+1200000+1000000+1200000+800000+1000000+1200000+800000+1200000+800000+1500000+600000+1200000+1000000+1200000+800000+1500000+1000000+600000\n",
        "p = 0.02 *(3 * 1200000)\n",
        "p2 = 0.03 *(3 * 1000000)\n",
        "p3 = 0.04 *(4 * 800000)\n",
        "p4 = 0.05 *(1 * 1500000)\n",
        "p5 = 0.07 *(3 * 1200000)\n",
        "hasil2 = p+p2+p3+p4+p5\n",
        "jml = hasil - hasil2\n",
        "print(\"jumlah bantuannya : \" +str(hasil))\n",
        "print(\"jumlah bantuan + pajaknya : \" +str(jml))\n"
      ],
      "metadata": {
        "id": "QjVp0-jSA18k"
      },
      "execution_count": null,
      "outputs": []
    },
    {
      "cell_type": "code",
      "source": [
        "path ='/content/drive/MyDrive/CSV/soal6 - Sheet1.csv'\n",
        "\n",
        "df = pd.read_csv(path)\n",
        "df.describe()"
      ],
      "metadata": {
        "colab": {
          "base_uri": "https://localhost:8080/",
          "height": 300
        },
        "id": "TPb8BX3Vja0D",
        "outputId": "6388c861-35c2-4e7f-f038-e5e04a17acbe"
      },
      "execution_count": null,
      "outputs": [
        {
          "output_type": "execute_result",
          "data": {
            "text/plain": [
              "       Jumlah RW  Jumlah Kepala Keluarga  Rata2 Usia  Keluarga\n",
              "count  15.000000               15.000000             15.000000\n",
              "mean    9.133333               30.433333             38.960000\n",
              "std     5.303189               11.524673              9.948999\n",
              "min     2.000000               15.000000             24.900000\n",
              "25%     4.500000               22.650000             30.750000\n",
              "50%     9.000000               28.000000             35.800000\n",
              "75%    12.000000               37.000000             47.150000\n",
              "max    19.000000               59.000000             54.900000"
            ],
            "text/html": [
              "\n",
              "  <div id=\"df-e8d241b6-8055-4873-bd55-cbb80a320154\">\n",
              "    <div class=\"colab-df-container\">\n",
              "      <div>\n",
              "<style scoped>\n",
              "    .dataframe tbody tr th:only-of-type {\n",
              "        vertical-align: middle;\n",
              "    }\n",
              "\n",
              "    .dataframe tbody tr th {\n",
              "        vertical-align: top;\n",
              "    }\n",
              "\n",
              "    .dataframe thead th {\n",
              "        text-align: right;\n",
              "    }\n",
              "</style>\n",
              "<table border=\"1\" class=\"dataframe\">\n",
              "  <thead>\n",
              "    <tr style=\"text-align: right;\">\n",
              "      <th></th>\n",
              "      <th>Jumlah RW</th>\n",
              "      <th>Jumlah Kepala Keluarga</th>\n",
              "      <th>Rata2 Usia  Keluarga</th>\n",
              "    </tr>\n",
              "  </thead>\n",
              "  <tbody>\n",
              "    <tr>\n",
              "      <th>count</th>\n",
              "      <td>15.000000</td>\n",
              "      <td>15.000000</td>\n",
              "      <td>15.000000</td>\n",
              "    </tr>\n",
              "    <tr>\n",
              "      <th>mean</th>\n",
              "      <td>9.133333</td>\n",
              "      <td>30.433333</td>\n",
              "      <td>38.960000</td>\n",
              "    </tr>\n",
              "    <tr>\n",
              "      <th>std</th>\n",
              "      <td>5.303189</td>\n",
              "      <td>11.524673</td>\n",
              "      <td>9.948999</td>\n",
              "    </tr>\n",
              "    <tr>\n",
              "      <th>min</th>\n",
              "      <td>2.000000</td>\n",
              "      <td>15.000000</td>\n",
              "      <td>24.900000</td>\n",
              "    </tr>\n",
              "    <tr>\n",
              "      <th>25%</th>\n",
              "      <td>4.500000</td>\n",
              "      <td>22.650000</td>\n",
              "      <td>30.750000</td>\n",
              "    </tr>\n",
              "    <tr>\n",
              "      <th>50%</th>\n",
              "      <td>9.000000</td>\n",
              "      <td>28.000000</td>\n",
              "      <td>35.800000</td>\n",
              "    </tr>\n",
              "    <tr>\n",
              "      <th>75%</th>\n",
              "      <td>12.000000</td>\n",
              "      <td>37.000000</td>\n",
              "      <td>47.150000</td>\n",
              "    </tr>\n",
              "    <tr>\n",
              "      <th>max</th>\n",
              "      <td>19.000000</td>\n",
              "      <td>59.000000</td>\n",
              "      <td>54.900000</td>\n",
              "    </tr>\n",
              "  </tbody>\n",
              "</table>\n",
              "</div>\n",
              "      <button class=\"colab-df-convert\" onclick=\"convertToInteractive('df-e8d241b6-8055-4873-bd55-cbb80a320154')\"\n",
              "              title=\"Convert this dataframe to an interactive table.\"\n",
              "              style=\"display:none;\">\n",
              "        \n",
              "  <svg xmlns=\"http://www.w3.org/2000/svg\" height=\"24px\"viewBox=\"0 0 24 24\"\n",
              "       width=\"24px\">\n",
              "    <path d=\"M0 0h24v24H0V0z\" fill=\"none\"/>\n",
              "    <path d=\"M18.56 5.44l.94 2.06.94-2.06 2.06-.94-2.06-.94-.94-2.06-.94 2.06-2.06.94zm-11 1L8.5 8.5l.94-2.06 2.06-.94-2.06-.94L8.5 2.5l-.94 2.06-2.06.94zm10 10l.94 2.06.94-2.06 2.06-.94-2.06-.94-.94-2.06-.94 2.06-2.06.94z\"/><path d=\"M17.41 7.96l-1.37-1.37c-.4-.4-.92-.59-1.43-.59-.52 0-1.04.2-1.43.59L10.3 9.45l-7.72 7.72c-.78.78-.78 2.05 0 2.83L4 21.41c.39.39.9.59 1.41.59.51 0 1.02-.2 1.41-.59l7.78-7.78 2.81-2.81c.8-.78.8-2.07 0-2.86zM5.41 20L4 18.59l7.72-7.72 1.47 1.35L5.41 20z\"/>\n",
              "  </svg>\n",
              "      </button>\n",
              "      \n",
              "  <style>\n",
              "    .colab-df-container {\n",
              "      display:flex;\n",
              "      flex-wrap:wrap;\n",
              "      gap: 12px;\n",
              "    }\n",
              "\n",
              "    .colab-df-convert {\n",
              "      background-color: #E8F0FE;\n",
              "      border: none;\n",
              "      border-radius: 50%;\n",
              "      cursor: pointer;\n",
              "      display: none;\n",
              "      fill: #1967D2;\n",
              "      height: 32px;\n",
              "      padding: 0 0 0 0;\n",
              "      width: 32px;\n",
              "    }\n",
              "\n",
              "    .colab-df-convert:hover {\n",
              "      background-color: #E2EBFA;\n",
              "      box-shadow: 0px 1px 2px rgba(60, 64, 67, 0.3), 0px 1px 3px 1px rgba(60, 64, 67, 0.15);\n",
              "      fill: #174EA6;\n",
              "    }\n",
              "\n",
              "    [theme=dark] .colab-df-convert {\n",
              "      background-color: #3B4455;\n",
              "      fill: #D2E3FC;\n",
              "    }\n",
              "\n",
              "    [theme=dark] .colab-df-convert:hover {\n",
              "      background-color: #434B5C;\n",
              "      box-shadow: 0px 1px 3px 1px rgba(0, 0, 0, 0.15);\n",
              "      filter: drop-shadow(0px 1px 2px rgba(0, 0, 0, 0.3));\n",
              "      fill: #FFFFFF;\n",
              "    }\n",
              "  </style>\n",
              "\n",
              "      <script>\n",
              "        const buttonEl =\n",
              "          document.querySelector('#df-e8d241b6-8055-4873-bd55-cbb80a320154 button.colab-df-convert');\n",
              "        buttonEl.style.display =\n",
              "          google.colab.kernel.accessAllowed ? 'block' : 'none';\n",
              "\n",
              "        async function convertToInteractive(key) {\n",
              "          const element = document.querySelector('#df-e8d241b6-8055-4873-bd55-cbb80a320154');\n",
              "          const dataTable =\n",
              "            await google.colab.kernel.invokeFunction('convertToInteractive',\n",
              "                                                     [key], {});\n",
              "          if (!dataTable) return;\n",
              "\n",
              "          const docLinkHtml = 'Like what you see? Visit the ' +\n",
              "            '<a target=\"_blank\" href=https://colab.research.google.com/notebooks/data_table.ipynb>data table notebook</a>'\n",
              "            + ' to learn more about interactive tables.';\n",
              "          element.innerHTML = '';\n",
              "          dataTable['output_type'] = 'display_data';\n",
              "          await google.colab.output.renderOutput(dataTable, element);\n",
              "          const docLink = document.createElement('div');\n",
              "          docLink.innerHTML = docLinkHtml;\n",
              "          element.appendChild(docLink);\n",
              "        }\n",
              "      </script>\n",
              "    </div>\n",
              "  </div>\n",
              "  "
            ]
          },
          "metadata": {},
          "execution_count": 75
        }
      ]
    },
    {
      "cell_type": "code",
      "source": [
        "df.info()"
      ],
      "metadata": {
        "colab": {
          "base_uri": "https://localhost:8080/"
        },
        "id": "j4UeskfQq81b",
        "outputId": "87e74897-b09a-41d1-898b-d03e0e721713"
      },
      "execution_count": null,
      "outputs": [
        {
          "output_type": "stream",
          "name": "stdout",
          "text": [
            "<class 'pandas.core.frame.DataFrame'>\n",
            "RangeIndex: 15 entries, 0 to 14\n",
            "Data columns (total 5 columns):\n",
            " #   Column                  Non-Null Count  Dtype  \n",
            "---  ------                  --------------  -----  \n",
            " 0   Daerah                  15 non-null     object \n",
            " 1   Jumlah RW               15 non-null     int64  \n",
            " 2   Jumlah Kepala Keluarga  15 non-null     float64\n",
            " 3   Rata2 Usia  Keluarga    15 non-null     float64\n",
            " 4   Nominal Bantuan         15 non-null     object \n",
            "dtypes: float64(2), int64(1), object(2)\n",
            "memory usage: 728.0+ bytes\n"
          ]
        }
      ]
    },
    {
      "cell_type": "code",
      "source": [
        "df"
      ],
      "metadata": {
        "colab": {
          "base_uri": "https://localhost:8080/",
          "height": 520
        },
        "id": "sIPVl24Fq-0J",
        "outputId": "3541cfe0-24ca-43b9-a795-6bdd01da0f64"
      },
      "execution_count": null,
      "outputs": [
        {
          "output_type": "execute_result",
          "data": {
            "text/plain": [
              "   Daerah  Jumlah RW  Jumlah Kepala Keluarga  Rata2 Usia  Keluarga  \\\n",
              "0       E          4                    16.1                  29.6   \n",
              "1       D          2                    26.0                  48.9   \n",
              "2       A          3                    39.0                  54.9   \n",
              "3       C         15                    42.0                  35.7   \n",
              "4       E         10                    27.1                  24.9   \n",
              "5       F          9                    34.0                  42.9   \n",
              "6       E         12                    23.2                  25.8   \n",
              "7       D          5                    59.0                  50.8   \n",
              "8       E          6                    40.0                  31.9   \n",
              "9       D          3                    20.0                  35.8   \n",
              "10      F         12                    22.1                  28.6   \n",
              "11      A         19                    15.0                  52.6   \n",
              "12      A         17                    35.0                  45.4   \n",
              "13      B          9                    28.0                  35.8   \n",
              "14      D         11                    30.0                  40.8   \n",
              "\n",
              "   Nominal Bantuan  \n",
              "0        1.200.000  \n",
              "1        1.000.000  \n",
              "2        1.200.000  \n",
              "3          800.000  \n",
              "4        1.000.000  \n",
              "5        1.200.000  \n",
              "6          800.000  \n",
              "7        1.200.000  \n",
              "8          800.000  \n",
              "9        1.500.000  \n",
              "10         600.000  \n",
              "11       1.200.000  \n",
              "12       1.000.000  \n",
              "13       1.200.000  \n",
              "14         800.000  "
            ],
            "text/html": [
              "\n",
              "  <div id=\"df-ab42d6f6-00ae-4105-81d2-b1d88e0fd99c\">\n",
              "    <div class=\"colab-df-container\">\n",
              "      <div>\n",
              "<style scoped>\n",
              "    .dataframe tbody tr th:only-of-type {\n",
              "        vertical-align: middle;\n",
              "    }\n",
              "\n",
              "    .dataframe tbody tr th {\n",
              "        vertical-align: top;\n",
              "    }\n",
              "\n",
              "    .dataframe thead th {\n",
              "        text-align: right;\n",
              "    }\n",
              "</style>\n",
              "<table border=\"1\" class=\"dataframe\">\n",
              "  <thead>\n",
              "    <tr style=\"text-align: right;\">\n",
              "      <th></th>\n",
              "      <th>Daerah</th>\n",
              "      <th>Jumlah RW</th>\n",
              "      <th>Jumlah Kepala Keluarga</th>\n",
              "      <th>Rata2 Usia  Keluarga</th>\n",
              "      <th>Nominal Bantuan</th>\n",
              "    </tr>\n",
              "  </thead>\n",
              "  <tbody>\n",
              "    <tr>\n",
              "      <th>0</th>\n",
              "      <td>E</td>\n",
              "      <td>4</td>\n",
              "      <td>16.1</td>\n",
              "      <td>29.6</td>\n",
              "      <td>1.200.000</td>\n",
              "    </tr>\n",
              "    <tr>\n",
              "      <th>1</th>\n",
              "      <td>D</td>\n",
              "      <td>2</td>\n",
              "      <td>26.0</td>\n",
              "      <td>48.9</td>\n",
              "      <td>1.000.000</td>\n",
              "    </tr>\n",
              "    <tr>\n",
              "      <th>2</th>\n",
              "      <td>A</td>\n",
              "      <td>3</td>\n",
              "      <td>39.0</td>\n",
              "      <td>54.9</td>\n",
              "      <td>1.200.000</td>\n",
              "    </tr>\n",
              "    <tr>\n",
              "      <th>3</th>\n",
              "      <td>C</td>\n",
              "      <td>15</td>\n",
              "      <td>42.0</td>\n",
              "      <td>35.7</td>\n",
              "      <td>800.000</td>\n",
              "    </tr>\n",
              "    <tr>\n",
              "      <th>4</th>\n",
              "      <td>E</td>\n",
              "      <td>10</td>\n",
              "      <td>27.1</td>\n",
              "      <td>24.9</td>\n",
              "      <td>1.000.000</td>\n",
              "    </tr>\n",
              "    <tr>\n",
              "      <th>5</th>\n",
              "      <td>F</td>\n",
              "      <td>9</td>\n",
              "      <td>34.0</td>\n",
              "      <td>42.9</td>\n",
              "      <td>1.200.000</td>\n",
              "    </tr>\n",
              "    <tr>\n",
              "      <th>6</th>\n",
              "      <td>E</td>\n",
              "      <td>12</td>\n",
              "      <td>23.2</td>\n",
              "      <td>25.8</td>\n",
              "      <td>800.000</td>\n",
              "    </tr>\n",
              "    <tr>\n",
              "      <th>7</th>\n",
              "      <td>D</td>\n",
              "      <td>5</td>\n",
              "      <td>59.0</td>\n",
              "      <td>50.8</td>\n",
              "      <td>1.200.000</td>\n",
              "    </tr>\n",
              "    <tr>\n",
              "      <th>8</th>\n",
              "      <td>E</td>\n",
              "      <td>6</td>\n",
              "      <td>40.0</td>\n",
              "      <td>31.9</td>\n",
              "      <td>800.000</td>\n",
              "    </tr>\n",
              "    <tr>\n",
              "      <th>9</th>\n",
              "      <td>D</td>\n",
              "      <td>3</td>\n",
              "      <td>20.0</td>\n",
              "      <td>35.8</td>\n",
              "      <td>1.500.000</td>\n",
              "    </tr>\n",
              "    <tr>\n",
              "      <th>10</th>\n",
              "      <td>F</td>\n",
              "      <td>12</td>\n",
              "      <td>22.1</td>\n",
              "      <td>28.6</td>\n",
              "      <td>600.000</td>\n",
              "    </tr>\n",
              "    <tr>\n",
              "      <th>11</th>\n",
              "      <td>A</td>\n",
              "      <td>19</td>\n",
              "      <td>15.0</td>\n",
              "      <td>52.6</td>\n",
              "      <td>1.200.000</td>\n",
              "    </tr>\n",
              "    <tr>\n",
              "      <th>12</th>\n",
              "      <td>A</td>\n",
              "      <td>17</td>\n",
              "      <td>35.0</td>\n",
              "      <td>45.4</td>\n",
              "      <td>1.000.000</td>\n",
              "    </tr>\n",
              "    <tr>\n",
              "      <th>13</th>\n",
              "      <td>B</td>\n",
              "      <td>9</td>\n",
              "      <td>28.0</td>\n",
              "      <td>35.8</td>\n",
              "      <td>1.200.000</td>\n",
              "    </tr>\n",
              "    <tr>\n",
              "      <th>14</th>\n",
              "      <td>D</td>\n",
              "      <td>11</td>\n",
              "      <td>30.0</td>\n",
              "      <td>40.8</td>\n",
              "      <td>800.000</td>\n",
              "    </tr>\n",
              "  </tbody>\n",
              "</table>\n",
              "</div>\n",
              "      <button class=\"colab-df-convert\" onclick=\"convertToInteractive('df-ab42d6f6-00ae-4105-81d2-b1d88e0fd99c')\"\n",
              "              title=\"Convert this dataframe to an interactive table.\"\n",
              "              style=\"display:none;\">\n",
              "        \n",
              "  <svg xmlns=\"http://www.w3.org/2000/svg\" height=\"24px\"viewBox=\"0 0 24 24\"\n",
              "       width=\"24px\">\n",
              "    <path d=\"M0 0h24v24H0V0z\" fill=\"none\"/>\n",
              "    <path d=\"M18.56 5.44l.94 2.06.94-2.06 2.06-.94-2.06-.94-.94-2.06-.94 2.06-2.06.94zm-11 1L8.5 8.5l.94-2.06 2.06-.94-2.06-.94L8.5 2.5l-.94 2.06-2.06.94zm10 10l.94 2.06.94-2.06 2.06-.94-2.06-.94-.94-2.06-.94 2.06-2.06.94z\"/><path d=\"M17.41 7.96l-1.37-1.37c-.4-.4-.92-.59-1.43-.59-.52 0-1.04.2-1.43.59L10.3 9.45l-7.72 7.72c-.78.78-.78 2.05 0 2.83L4 21.41c.39.39.9.59 1.41.59.51 0 1.02-.2 1.41-.59l7.78-7.78 2.81-2.81c.8-.78.8-2.07 0-2.86zM5.41 20L4 18.59l7.72-7.72 1.47 1.35L5.41 20z\"/>\n",
              "  </svg>\n",
              "      </button>\n",
              "      \n",
              "  <style>\n",
              "    .colab-df-container {\n",
              "      display:flex;\n",
              "      flex-wrap:wrap;\n",
              "      gap: 12px;\n",
              "    }\n",
              "\n",
              "    .colab-df-convert {\n",
              "      background-color: #E8F0FE;\n",
              "      border: none;\n",
              "      border-radius: 50%;\n",
              "      cursor: pointer;\n",
              "      display: none;\n",
              "      fill: #1967D2;\n",
              "      height: 32px;\n",
              "      padding: 0 0 0 0;\n",
              "      width: 32px;\n",
              "    }\n",
              "\n",
              "    .colab-df-convert:hover {\n",
              "      background-color: #E2EBFA;\n",
              "      box-shadow: 0px 1px 2px rgba(60, 64, 67, 0.3), 0px 1px 3px 1px rgba(60, 64, 67, 0.15);\n",
              "      fill: #174EA6;\n",
              "    }\n",
              "\n",
              "    [theme=dark] .colab-df-convert {\n",
              "      background-color: #3B4455;\n",
              "      fill: #D2E3FC;\n",
              "    }\n",
              "\n",
              "    [theme=dark] .colab-df-convert:hover {\n",
              "      background-color: #434B5C;\n",
              "      box-shadow: 0px 1px 3px 1px rgba(0, 0, 0, 0.15);\n",
              "      filter: drop-shadow(0px 1px 2px rgba(0, 0, 0, 0.3));\n",
              "      fill: #FFFFFF;\n",
              "    }\n",
              "  </style>\n",
              "\n",
              "      <script>\n",
              "        const buttonEl =\n",
              "          document.querySelector('#df-ab42d6f6-00ae-4105-81d2-b1d88e0fd99c button.colab-df-convert');\n",
              "        buttonEl.style.display =\n",
              "          google.colab.kernel.accessAllowed ? 'block' : 'none';\n",
              "\n",
              "        async function convertToInteractive(key) {\n",
              "          const element = document.querySelector('#df-ab42d6f6-00ae-4105-81d2-b1d88e0fd99c');\n",
              "          const dataTable =\n",
              "            await google.colab.kernel.invokeFunction('convertToInteractive',\n",
              "                                                     [key], {});\n",
              "          if (!dataTable) return;\n",
              "\n",
              "          const docLinkHtml = 'Like what you see? Visit the ' +\n",
              "            '<a target=\"_blank\" href=https://colab.research.google.com/notebooks/data_table.ipynb>data table notebook</a>'\n",
              "            + ' to learn more about interactive tables.';\n",
              "          element.innerHTML = '';\n",
              "          dataTable['output_type'] = 'display_data';\n",
              "          await google.colab.output.renderOutput(dataTable, element);\n",
              "          const docLink = document.createElement('div');\n",
              "          docLink.innerHTML = docLinkHtml;\n",
              "          element.appendChild(docLink);\n",
              "        }\n",
              "      </script>\n",
              "    </div>\n",
              "  </div>\n",
              "  "
            ]
          },
          "metadata": {},
          "execution_count": 77
        }
      ]
    },
    {
      "cell_type": "code",
      "source": [
        "print(\"Jumlah RW A : \")\n",
        "df[df['Daerah']=='A']['Jumlah RW'].sum()\n"
      ],
      "metadata": {
        "colab": {
          "base_uri": "https://localhost:8080/"
        },
        "id": "pff-cZtRrVRv",
        "outputId": "a1d2c7da-5133-46d7-abde-3f61acac3200"
      },
      "execution_count": null,
      "outputs": [
        {
          "output_type": "stream",
          "name": "stdout",
          "text": [
            "Jumlah RW A : \n"
          ]
        },
        {
          "output_type": "execute_result",
          "data": {
            "text/plain": [
              "39"
            ]
          },
          "metadata": {},
          "execution_count": 55
        }
      ]
    },
    {
      "cell_type": "code",
      "source": [
        "print(\"Jumlah RW B : \")\n",
        "df[df['Daerah']=='B']['Jumlah RW'].sum()"
      ],
      "metadata": {
        "colab": {
          "base_uri": "https://localhost:8080/"
        },
        "id": "H1So3f10wktI",
        "outputId": "99f90be6-ec25-425d-9e04-25fd760fba68"
      },
      "execution_count": null,
      "outputs": [
        {
          "output_type": "stream",
          "name": "stdout",
          "text": [
            "Jumlah RW B : \n"
          ]
        },
        {
          "output_type": "execute_result",
          "data": {
            "text/plain": [
              "9"
            ]
          },
          "metadata": {},
          "execution_count": 56
        }
      ]
    },
    {
      "cell_type": "code",
      "source": [
        "print(\"Jumlah RW C : \")\n",
        "df[df['Daerah']=='C']['Jumlah RW'].sum()"
      ],
      "metadata": {
        "colab": {
          "base_uri": "https://localhost:8080/"
        },
        "id": "1SxoiWGMrYsY",
        "outputId": "81663ab0-4c3d-41c8-be33-13b2c0f083eb"
      },
      "execution_count": null,
      "outputs": [
        {
          "output_type": "stream",
          "name": "stdout",
          "text": [
            "Jumlah RW C : \n"
          ]
        },
        {
          "output_type": "execute_result",
          "data": {
            "text/plain": [
              "15"
            ]
          },
          "metadata": {},
          "execution_count": 57
        }
      ]
    },
    {
      "cell_type": "code",
      "source": [
        "print(\"Jumlah RW D : \")\n",
        "df[df['Daerah']=='D']['Jumlah RW'].sum()"
      ],
      "metadata": {
        "colab": {
          "base_uri": "https://localhost:8080/"
        },
        "id": "JlDj9XAEsmm2",
        "outputId": "407726a0-fab4-41f2-e8b6-1fb32d996058"
      },
      "execution_count": null,
      "outputs": [
        {
          "output_type": "stream",
          "name": "stdout",
          "text": [
            "Jumlah RW D : \n"
          ]
        },
        {
          "output_type": "execute_result",
          "data": {
            "text/plain": [
              "21"
            ]
          },
          "metadata": {},
          "execution_count": 58
        }
      ]
    },
    {
      "cell_type": "code",
      "source": [
        "print(\"Jumlah RW E : \")\n",
        "df[df['Daerah']=='E']['Jumlah RW'].sum()"
      ],
      "metadata": {
        "colab": {
          "base_uri": "https://localhost:8080/"
        },
        "id": "qMGB2HiFgBe4",
        "outputId": "71b207de-90d7-4b14-e6d2-d30b9da725cd"
      },
      "execution_count": null,
      "outputs": [
        {
          "output_type": "stream",
          "name": "stdout",
          "text": [
            "Jumlah RW E : \n"
          ]
        },
        {
          "output_type": "execute_result",
          "data": {
            "text/plain": [
              "32"
            ]
          },
          "metadata": {},
          "execution_count": 59
        }
      ]
    },
    {
      "cell_type": "code",
      "source": [
        "print(\"Jumlah RW F : \")\n",
        "df[df['Daerah']=='F']['Jumlah RW'].sum()"
      ],
      "metadata": {
        "colab": {
          "base_uri": "https://localhost:8080/"
        },
        "id": "qFGEvy1TgHyx",
        "outputId": "3ca53eb3-d27d-4132-9262-c3074a6e74c3"
      },
      "execution_count": null,
      "outputs": [
        {
          "output_type": "stream",
          "name": "stdout",
          "text": [
            "Jumlah RW F : \n"
          ]
        },
        {
          "output_type": "execute_result",
          "data": {
            "text/plain": [
              "21"
            ]
          },
          "metadata": {},
          "execution_count": 60
        }
      ]
    },
    {
      "cell_type": "code",
      "source": [
        "import matplotlib.pyplot as plt\n",
        "fig = plt.figure()\n",
        "ax = fig.add_axes([0,0,1,1])\n",
        "daerah = [\"KK A\",\"KK B\",\"KK C\",\"KK D\",\"KK E\",\"KK F\"]\n",
        "jumlah = [39,9,15,21,32,21]\n",
        "c = ['blue', 'green', 'red', 'purple', 'yellow', 'black', 'brown']\n",
        "plt.title(\"tabel KK\")\n",
        "plt.bar(daerah, jumlah, color = c)\n",
        "plt.show()\n",
        "\n",
        "fig = plt.figure()\n",
        "ax = fig.add_axes([0,0,1,1])\n",
        "ax.axis('equal')\n",
        "daerah = [\"KK A\",\"KK B\",\"KK C\",\"KK D\",\"KK E\",\"KK F\"]\n",
        "jumlah = [39,9,15,21,32,21]\n",
        "ax.pie(jumlah, labels=daerah,autopct='%1.2f%%')\n",
        "plt.title(\"tabel KK\")\n",
        "plt.show()"
      ],
      "metadata": {
        "colab": {
          "base_uri": "https://localhost:8080/",
          "height": 670
        },
        "id": "Sg5OgumOgXl9",
        "outputId": "eb5bcb6c-80a2-4525-8bfe-22d44e109367"
      },
      "execution_count": null,
      "outputs": [
        {
          "output_type": "display_data",
          "data": {
            "text/plain": [
              "<Figure size 432x288 with 1 Axes>"
            ],
            "image/png": "[encoded data removed]"
          },
          "metadata": {
            "needs_background": "light"
          }
        },
        {
          "output_type": "display_data",
          "data": {
            "text/plain": [
              "<Figure size 432x288 with 1 Axes>"
            ],
            "image/png": "[encoded data removed]"
          },
          "metadata": {}
        }
      ]
    },
    {
      "cell_type": "code",
      "source": [
        "print(\"Mean Usia : \")\n",
        "df['Rata2 Usia  Keluarga'].sum() / 15"
      ],
      "metadata": {
        "colab": {
          "base_uri": "https://localhost:8080/"
        },
        "id": "YYFsuILUhEJo",
        "outputId": "1971b200-5f92-48be-b90b-8f65928cce6e"
      },
      "execution_count": null,
      "outputs": [
        {
          "output_type": "stream",
          "name": "stdout",
          "text": [
            "Mean Usia : \n"
          ]
        },
        {
          "output_type": "execute_result",
          "data": {
            "text/plain": [
              "38.96"
            ]
          },
          "metadata": {},
          "execution_count": 90
        }
      ]
    },
    {
      "cell_type": "code",
      "source": [
        "hasil = 1200000+1000000+1200000+800000+1000000+1200000+800000+1200000+800000+1500000+600000+1200000+1000000+1200000+800000+600000\n",
        "p = 0.02 *(6 * 1200000)\n",
        "p2 = 0.03 *(3 * 1000000)\n",
        "p3 = 0.04 *(4 * 800000)\n",
        "p4 = 0.05 *(1 * 1500000)\n",
        "p5 = 0.07 *(1 * 600000)\n",
        "hasil2 = p+p2+p3+p4+p5\n",
        "jml = hasil - hasil2\n",
        "print(\"jumlah bantuannya : \" +str(hasil))\n",
        "print(\"jumlah bantuan + pajaknya : \" +str(jml))"
      ],
      "metadata": {
        "id": "3J-7B1RZmRi4",
        "colab": {
          "base_uri": "https://localhost:8080/"
        },
        "outputId": "502fc6d1-9b7a-4d4a-c01e-dd26fc1a2340"
      },
      "execution_count": null,
      "outputs": [
        {
          "output_type": "stream",
          "name": "stdout",
          "text": [
            "jumlah bantuannya : 16100000\n",
            "jumlah bantuan + pajaknya : 15621000.0\n"
          ]
        }
      ]
    },
    {
      "cell_type": "code",
      "source": [
        "import matplotlib.pyplot as plt\n",
        "fig = plt.figure()\n",
        "ax = fig.add_axes([0,0,1,1])\n",
        "daerah = [\"jumlah bantuan\",\"jumlah bantuan + pajak\"]\n",
        "jumlah = [16100000,15621000]\n",
        "c = ['blue', 'green', 'red', 'purple', 'yellow', 'black', 'brown']\n",
        "plt.title(\"tabel KK\")\n",
        "plt.bar(daerah, jumlah, color = c)\n",
        "plt.show()\n",
        "\n",
        "fig = plt.figure()\n",
        "ax = fig.add_axes([0,0,1,1])\n",
        "ax.axis('equal')\n",
        "daerah = [\"jumlah bantuan\",\"jumlah bantuan + pajak\"]\n",
        "jumlah = [16100000,15621000]\n",
        "ax.pie(jumlah, labels=daerah,autopct='%1.2f%%')\n",
        "plt.title(\"tabel KK\")\n",
        "plt.show()"
      ],
      "metadata": {
        "colab": {
          "base_uri": "https://localhost:8080/",
          "height": 670
        },
        "id": "6r474E5fmlpe",
        "outputId": "a1d45b6e-d5d3-4ae3-9d62-cf93ef4a7e4e"
      },
      "execution_count": null,
      "outputs": [
        {
          "output_type": "display_data",
          "data": {
            "text/plain": [
              "<Figure size 432x288 with 1 Axes>"
            ],
            "image/png": "[encoded data removed]"
          },
          "metadata": {
            "needs_background": "light"
          }
        },
        {
          "output_type": "display_data",
          "data": {
            "text/plain": [
              "<Figure size 432x288 with 1 Axes>"
            ],
            "image/png": "[encoded data removed]"
          },
          "metadata": {}
        }
      ]
    }
  ]
}